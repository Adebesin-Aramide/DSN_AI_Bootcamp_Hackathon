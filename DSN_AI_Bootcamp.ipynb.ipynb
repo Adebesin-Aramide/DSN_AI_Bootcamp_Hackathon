{
 "cells": [
  {
   "cell_type": "code",
   "execution_count": 2,
   "metadata": {},
   "outputs": [],
   "source": [
    "#importing the necessary libraries\n",
    "import numpy as np\n",
    "import pandas as pd\n",
    "import matplotlib.pyplot as plt\n",
    "import seaborn as sns\n",
    "from sklearn.model_selection import train_test_split, KFold\n",
    "from lightgbm import LGBMRegressor\n",
    "from catboost import CatBoostRegressor\n",
    "from sklearn.ensemble import VotingRegressor\n",
    "from sklearn.metrics import mean_squared_error\n",
    "from sklearn.preprocessing import LabelEncoder\n"
   ]
  },
  {
   "cell_type": "code",
   "execution_count": 3,
   "metadata": {},
   "outputs": [
    {
     "name": "stdout",
     "output_type": "stream",
     "text": [
      "      ID      loc                 title  bedroom  bathroom  parking_space  \\\n",
      "0   3583  Katsina  Semi-detached duplex      2.0       2.0            1.0   \n",
      "1   2748     Ondo             Apartment      NaN       2.0            4.0   \n",
      "2   9261    Ekiti                   NaN      7.0       5.0            NaN   \n",
      "3   2224  Anambra       Detached duplex      5.0       2.0            4.0   \n",
      "4  10300     Kogi        Terrace duplex      NaN       5.0            6.0   \n",
      "\n",
      "         price  \n",
      "0  1149999.565  \n",
      "1  1672416.689  \n",
      "2  3364799.814  \n",
      "3  2410306.756  \n",
      "4  2600700.898  \n",
      "      ID      loc                 title  bedroom  bathroom  parking_space\n",
      "0    845     Kano             Penthouse        4         1              2\n",
      "1   1924  Adamawa             Apartment        2         2              4\n",
      "2  10718  Adamawa              Bungalow        2         7              2\n",
      "3  12076    Lagos               Mansion        9         5              2\n",
      "4  12254    Gombe  Semi-detached duplex        5         6              1\n"
     ]
    }
   ],
   "source": [
    "#loading the train and test dataset\n",
    "train = pd.read_csv(\"Housing_dataset_train.csv\")\n",
    "test = pd.read_csv(\"Housing_dataset_test.csv\")\n",
    "print(train.head())\n",
    "print(test.head())"
   ]
  },
  {
   "cell_type": "code",
   "execution_count": 4,
   "metadata": {},
   "outputs": [
    {
     "name": "stdout",
     "output_type": "stream",
     "text": [
      "(14000, 7)\n",
      "(6000, 6)\n"
     ]
    }
   ],
   "source": [
    "#displaying the number of rows and columns of the train and test dataset\n",
    "print(train.shape)\n",
    "print(test.shape)"
   ]
  },
  {
   "cell_type": "code",
   "execution_count": 5,
   "metadata": {},
   "outputs": [
    {
     "name": "stdout",
     "output_type": "stream",
     "text": [
      "<class 'pandas.core.frame.DataFrame'>\n",
      "RangeIndex: 14000 entries, 0 to 13999\n",
      "Data columns (total 7 columns):\n",
      " #   Column         Non-Null Count  Dtype  \n",
      "---  ------         --------------  -----  \n",
      " 0   ID             14000 non-null  int64  \n",
      " 1   loc            12187 non-null  object \n",
      " 2   title          12278 non-null  object \n",
      " 3   bedroom        12201 non-null  float64\n",
      " 4   bathroom       12195 non-null  float64\n",
      " 5   parking_space  12189 non-null  float64\n",
      " 6   price          14000 non-null  float64\n",
      "dtypes: float64(4), int64(1), object(2)\n",
      "memory usage: 765.8+ KB\n",
      "None\n",
      "<class 'pandas.core.frame.DataFrame'>\n",
      "RangeIndex: 6000 entries, 0 to 5999\n",
      "Data columns (total 6 columns):\n",
      " #   Column         Non-Null Count  Dtype \n",
      "---  ------         --------------  ----- \n",
      " 0   ID             6000 non-null   int64 \n",
      " 1   loc            6000 non-null   object\n",
      " 2   title          6000 non-null   object\n",
      " 3   bedroom        6000 non-null   int64 \n",
      " 4   bathroom       6000 non-null   int64 \n",
      " 5   parking_space  6000 non-null   int64 \n",
      "dtypes: int64(4), object(2)\n",
      "memory usage: 281.4+ KB\n",
      "None\n"
     ]
    }
   ],
   "source": [
    "#displaying the information on the train and test dataset\n",
    "print(train.info())\n",
    "print(test.info())"
   ]
  },
  {
   "cell_type": "code",
   "execution_count": 6,
   "metadata": {},
   "outputs": [
    {
     "name": "stdout",
     "output_type": "stream",
     "text": [
      "                 ID       bedroom      bathroom  parking_space         price\n",
      "count  14000.000000  12201.000000  12195.000000   12189.000000  1.400000e+04\n",
      "mean    4862.700357      4.308171      3.134235       3.169825  2.138082e+06\n",
      "std     3818.348214      2.441165      2.035950       1.599415  1.083057e+06\n",
      "min        0.000000      1.000000      1.000000       1.000000  4.319673e+05\n",
      "25%     1672.750000      2.000000      1.000000       2.000000  1.393990e+06\n",
      "50%     3527.000000      4.000000      2.000000       3.000000  1.895223e+06\n",
      "75%     8011.250000      6.000000      5.000000       4.000000  2.586699e+06\n",
      "max    12999.000000      9.000000      7.000000       6.000000  1.656849e+07\n",
      "                 ID      bedroom     bathroom  parking_space\n",
      "count   6000.000000  6000.000000  6000.000000    6000.000000\n",
      "mean    4818.699167     4.329833     3.105667       3.132333\n",
      "std     3832.336902     2.454733     2.033189       1.604551\n",
      "min        2.000000     1.000000     1.000000       1.000000\n",
      "25%     1647.000000     2.000000     1.000000       2.000000\n",
      "50%     3433.000000     4.000000     2.000000       3.000000\n",
      "75%     7970.000000     6.000000     5.000000       4.000000\n",
      "max    12995.000000     9.000000     7.000000       6.000000\n"
     ]
    }
   ],
   "source": [
    "#displaying the summary statistics of the train and test dataset\n",
    "print(train.describe())\n",
    "print(test.describe())"
   ]
  },
  {
   "cell_type": "code",
   "execution_count": 7,
   "metadata": {},
   "outputs": [
    {
     "name": "stdout",
     "output_type": "stream",
     "text": [
      "ID                  0\n",
      "loc              1813\n",
      "title            1722\n",
      "bedroom          1799\n",
      "bathroom         1805\n",
      "parking_space    1811\n",
      "price               0\n",
      "dtype: int64\n",
      "ID               0\n",
      "loc              0\n",
      "title            0\n",
      "bedroom          0\n",
      "bathroom         0\n",
      "parking_space    0\n",
      "dtype: int64\n"
     ]
    }
   ],
   "source": [
    "#checking for missing values in the train and test datsets\n",
    "print(train.isnull().sum())\n",
    "print(test.isnull().sum())"
   ]
  },
  {
   "cell_type": "code",
   "execution_count": 8,
   "metadata": {},
   "outputs": [
    {
     "name": "stdout",
     "output_type": "stream",
     "text": [
      "Index(['ID', 'loc', 'title', 'bedroom', 'bathroom', 'parking_space', 'price'], dtype='object')\n",
      "Index(['ID', 'loc', 'title', 'bedroom', 'bathroom', 'parking_space'], dtype='object')\n"
     ]
    }
   ],
   "source": [
    "#displaying the columns in the train and test datset\n",
    "print(train.columns)\n",
    "print(test.columns)"
   ]
  },
  {
   "cell_type": "code",
   "execution_count": 9,
   "metadata": {},
   "outputs": [],
   "source": [
    "#dropping the ID column in the train and test datset since it is not necessary\n",
    "train.drop(columns = [\"ID\"], axis=1, inplace=True)\n",
    "test.drop(columns= [\"ID\"], axis=1, inplace = True)"
   ]
  },
  {
   "cell_type": "code",
   "execution_count": 10,
   "metadata": {
    "scrolled": true
   },
   "outputs": [
    {
     "name": "stdout",
     "output_type": "stream",
     "text": [
      "36\n",
      "36\n"
     ]
    }
   ],
   "source": [
    "#displaying the number of unique values in the location column\n",
    "print(train[\"loc\"].nunique())\n",
    "print(test[\"loc\"].nunique())"
   ]
  },
  {
   "cell_type": "code",
   "execution_count": 11,
   "metadata": {},
   "outputs": [
    {
     "name": "stdout",
     "output_type": "stream",
     "text": [
      "10\n",
      "10\n"
     ]
    }
   ],
   "source": [
    "#displaying the number of unique values in the title column\n",
    "print(train[\"title\"].nunique())\n",
    "print(test[\"title\"].nunique())"
   ]
  },
  {
   "attachments": {},
   "cell_type": "markdown",
   "metadata": {},
   "source": [
    "### Exploratory Data Analysis"
   ]
  },
  {
   "cell_type": "code",
   "execution_count": 12,
   "metadata": {
    "scrolled": false
   },
   "outputs": [
    {
     "data": {
      "image/png": "[encoded data removed]",
      "text/plain": [
       "<Figure size 504x360 with 1 Axes>"
      ]
     },
     "metadata": {
      "needs_background": "light"
     },
     "output_type": "display_data"
    },
    {
     "data": {
      "image/png": "[encoded data removed]",
      "text/plain": [
       "<Figure size 504x360 with 1 Axes>"
      ]
     },
     "metadata": {
      "needs_background": "light"
     },
     "output_type": "display_data"
    },
    {
     "data": {
      "image/png": "[encoded data removed]",
      "text/plain": [
       "<Figure size 504x360 with 1 Axes>"
      ]
     },
     "metadata": {
      "needs_background": "light"
     },
     "output_type": "display_data"
    },
    {
     "data": {
      "image/png": "[encoded data removed]",
      "text/plain": [
       "<Figure size 504x360 with 1 Axes>"
      ]
     },
     "metadata": {
      "needs_background": "light"
     },
     "output_type": "display_data"
    },
    {
     "data": {
      "image/png": "[encoded data removed]",
      "text/plain": [
       "<Figure size 504x360 with 1 Axes>"
      ]
     },
     "metadata": {
      "needs_background": "light"
     },
     "output_type": "display_data"
    }
   ],
   "source": [
    "#Distribution of house type\n",
    "columns = [\"bedroom\", \"bathroom\", \"parking_space\", \"title\", \"loc\"]\n",
    "title_list = [\"Distribution of Bedroom\",\n",
    "              \"Distribution of Bathroom\",\n",
    "              \"Distribution of Parking Space\",\n",
    "              \"Distribution of House_type\",\n",
    "              \"Distribution of location\"]\n",
    "for col in range(len(columns)):\n",
    "  plt.figure(figsize=(7,5))\n",
    "  sns.histplot(train[columns[col]], kde=True)\n",
    "  plt.xticks(rotation = 90)\n",
    "  plt.title(title_list[col]);"
   ]
  },
  {
   "cell_type": "code",
   "execution_count": 14,
   "metadata": {},
   "outputs": [
    {
     "data": {
      "text/plain": [
       "loc\n",
       "Cross River    317\n",
       "Imo            311\n",
       "Anambra        310\n",
       "Benue          309\n",
       "Kaduna         309\n",
       "Name: title, dtype: int64"
      ]
     },
     "execution_count": 14,
     "metadata": {},
     "output_type": "execute_result"
    }
   ],
   "source": [
    "#State with highest number of houses\n",
    "house_type_by_state = train.groupby([\"loc\"])[\"title\"].count().sort_values(ascending = False)\n",
    "house_type_by_state.head()"
   ]
  },
  {
   "cell_type": "code",
   "execution_count": 16,
   "metadata": {},
   "outputs": [
    {
     "data": {
      "image/png": "[encoded data removed]",
      "text/plain": [
       "<Figure size 720x648 with 1 Axes>"
      ]
     },
     "metadata": {
      "needs_background": "light"
     },
     "output_type": "display_data"
    }
   ],
   "source": [
    "#Average house price in each state\n",
    "average_price_by_state = train.groupby([\"loc\"])[\"price\"].mean().reset_index()\n",
    "average_price_by_state_sorted = average_price_by_state.sort_values(by= \"price\", ascending=False)\n",
    "#visualizing\n",
    "plt.figure(figsize=(10,9))\n",
    "sns.barplot(data = average_price_by_state_sorted, x= \"loc\", y=\"price\")\n",
    "plt.xticks(rotation = 90)\n",
    "plt.xlabel(\"State\")\n",
    "plt.ylabel(\"Price\")\n",
    "plt.title(\"Average House Price in Each State\")\n",
    "plt.savefig(\"avg_hsp_by_state.png\");"
   ]
  },
  {
   "cell_type": "code",
   "execution_count": 15,
   "metadata": {},
   "outputs": [
    {
     "data": {
      "image/png": "[encoded data removed]",
      "text/plain": [
       "<Figure size 504x360 with 1 Axes>"
      ]
     },
     "metadata": {
      "needs_background": "light"
     },
     "output_type": "display_data"
    }
   ],
   "source": [
    "#Average number of bathroom based on house type\n",
    "average_bathrooms_by_housetype = train.groupby(\"title\")[\"bathroom\"].mean().reset_index()\n",
    "average_bathrooms_by_housetype_sorted = average_bathrooms_by_housetype.sort_values(by= \"bathroom\", ascending=False)\n",
    "#visualizing\n",
    "plt.figure(figsize=(7,5))\n",
    "sns.barplot(data = average_bathrooms_by_housetype_sorted, x= \"title\", y=\"bathroom\")\n",
    "plt.xticks(rotation = 90)\n",
    "plt.xlabel(\"House Type\")\n",
    "plt.ylabel(\"Bathrooms\")\n",
    "plt.title(\"Average No of Bathrooms in Each House Type\");"
   ]
  },
  {
   "cell_type": "code",
   "execution_count": 17,
   "metadata": {
    "scrolled": false
   },
   "outputs": [
    {
     "data": {
      "image/png": "[encoded data removed]",
      "text/plain": [
       "<Figure size 504x360 with 1 Axes>"
      ]
     },
     "metadata": {
      "needs_background": "light"
     },
     "output_type": "display_data"
    }
   ],
   "source": [
    "#Average number of bedroom based on house type\n",
    "average_bedroom_by_housetype = train.groupby(\"title\")[\"bedroom\"].mean().reset_index()\n",
    "average_bedroom_by_housetype_sorted = average_bedroom_by_housetype.sort_values(by= \"bedroom\", ascending=False)\n",
    "#visualizing\n",
    "plt.figure(figsize=(7,5))\n",
    "sns.barplot(data = average_bedroom_by_housetype_sorted, x= \"title\", y=\"bedroom\")\n",
    "plt.xticks(rotation = 90)\n",
    "plt.xlabel(\"House Type\")\n",
    "plt.ylabel(\"Bedroom\")\n",
    "plt.title(\"Average No of Bedroom in Each House Type\");"
   ]
  },
  {
   "cell_type": "code",
   "execution_count": 18,
   "metadata": {},
   "outputs": [
    {
     "data": {
      "image/png": "[encoded data removed]",
      "text/plain": [
       "<Figure size 432x288 with 1 Axes>"
      ]
     },
     "metadata": {
      "needs_background": "light"
     },
     "output_type": "display_data"
    }
   ],
   "source": [
    "#Checking for outliers inthe price column\n",
    "sns.boxplot(x =train[\"price\"]);"
   ]
  },
  {
   "attachments": {},
   "cell_type": "markdown",
   "metadata": {},
   "source": [
    "### Bivariate Analysis"
   ]
  },
  {
   "cell_type": "code",
   "execution_count": 19,
   "metadata": {},
   "outputs": [
    {
     "data": {
      "image/png": "[encoded data removed]",
      "text/plain": [
       "<Figure size 360x288 with 1 Axes>"
      ]
     },
     "metadata": {
      "needs_background": "light"
     },
     "output_type": "display_data"
    },
    {
     "data": {
      "image/png": "[encoded data removed]",
      "text/plain": [
       "<Figure size 360x288 with 1 Axes>"
      ]
     },
     "metadata": {
      "needs_background": "light"
     },
     "output_type": "display_data"
    },
    {
     "data": {
      "image/png": "[encoded data removed]",
      "text/plain": [
       "<Figure size 360x288 with 1 Axes>"
      ]
     },
     "metadata": {
      "needs_background": "light"
     },
     "output_type": "display_data"
    }
   ],
   "source": [
    "#Relationship between continuous features and target variable(Price)\n",
    "num_cols = [\"bedroom\", \"bathroom\", \"parking_space\"]\n",
    "titles = [\"No of bedrooms vs. House Price\", \"No of bathrooms vs. House Price\", \"No of parking space vs. House Price\"]\n",
    "for col in range(len(num_cols)):\n",
    "  plt.figure(figsize=(5,4))\n",
    "  sns.scatterplot(data= train, x=num_cols[col], y=train[\"price\"])\n",
    "  plt.title(titles[col]);"
   ]
  },
  {
   "cell_type": "code",
   "execution_count": 20,
   "metadata": {},
   "outputs": [
    {
     "data": {
      "text/plain": [
       "loc\n",
       "Lagos        3845225.673\n",
       "Bayelsa      2844060.341\n",
       "Rivers       2569029.764\n",
       "Akwa Ibom    2505119.860\n",
       "Delta        2401926.119\n",
       "Name: price, dtype: float64"
      ]
     },
     "execution_count": 20,
     "metadata": {},
     "output_type": "execute_result"
    }
   ],
   "source": [
    "#State with the highest median price\n",
    "median_price_by_state = train.groupby(\"loc\")[\"price\"].median()\n",
    "median_price_by_state.sort_values(ascending=False).head()"
   ]
  },
  {
   "cell_type": "code",
   "execution_count": 21,
   "metadata": {},
   "outputs": [
    {
     "data": {
      "image/png": "[encoded data removed]",
      "text/plain": [
       "<Figure size 432x288 with 1 Axes>"
      ]
     },
     "metadata": {
      "needs_background": "light"
     },
     "output_type": "display_data"
    }
   ],
   "source": [
    "#Most expensive house type\n",
    "mean_price_by_title = train.groupby(\"title\")[\"price\"].mean().reset_index().sort_values(by= \"price\", ascending=False)\n",
    "#visualizing\n",
    "sns.barplot(data=mean_price_by_title, x=\"title\", y=\"price\")\n",
    "plt.xticks(rotation= 90)\n",
    "plt.xlabel(\"House Type\")\n",
    "plt.ylabel(\"Price\")\n",
    "plt.title(\"Most Expensive House Type\")\n",
    "plt.savefig(\"most_exp.png\");"
   ]
  },
  {
   "cell_type": "code",
   "execution_count": 22,
   "metadata": {
    "scrolled": true
   },
   "outputs": [
    {
     "data": {
      "image/png": "[encoded data removed]",
      "text/plain": [
       "<Figure size 432x288 with 2 Axes>"
      ]
     },
     "metadata": {
      "needs_background": "light"
     },
     "output_type": "display_data"
    }
   ],
   "source": [
    "#displaying the correlation between tne contionous featu\n",
    "train_corr = train.corr()\n",
    "sns.heatmap(train_corr, annot=True)\n",
    "plt.title(\"Correlation between Numerical features and Target variable\")\n",
    "plt.savefig(\"corr_plot.png\")"
   ]
  },
  {
   "attachments": {},
   "cell_type": "markdown",
   "metadata": {},
   "source": [
    "### Preprocessing"
   ]
  },
  {
   "cell_type": "code",
   "execution_count": 23,
   "metadata": {},
   "outputs": [],
   "source": [
    "#filling the missing values in the numeric column with the mean of each column\n",
    "missing_cols = [\"bedroom\", \"bathroom\", \"parking_space\"]\n",
    "for col in missing_cols:\n",
    "  missing_cols_mean = train[col].mean()\n",
    "  train[col].fillna(missing_cols_mean, inplace=True)"
   ]
  },
  {
   "cell_type": "code",
   "execution_count": 24,
   "metadata": {},
   "outputs": [],
   "source": [
    "#filling the missing values in thr categorical column with the mode\n",
    "loc_mode = train[\"loc\"].mode()[0]\n",
    "title_mode = train[\"title\"].mode()[0]\n",
    "train[\"loc\"].fillna(loc_mode, inplace=True)\n",
    "train[\"title\"].fillna(title_mode, inplace=True)"
   ]
  },
  {
   "cell_type": "code",
   "execution_count": 25,
   "metadata": {},
   "outputs": [
    {
     "data": {
      "text/plain": [
       "loc              0\n",
       "title            0\n",
       "bedroom          0\n",
       "bathroom         0\n",
       "parking_space    0\n",
       "price            0\n",
       "dtype: int64"
      ]
     },
     "execution_count": 25,
     "metadata": {},
     "output_type": "execute_result"
    }
   ],
   "source": [
    "#checking for null values\n",
    "train.isnull().sum()"
   ]
  },
  {
   "attachments": {},
   "cell_type": "markdown",
   "metadata": {},
   "source": [
    "### Feature Engineering"
   ]
  },
  {
   "cell_type": "code",
   "execution_count": 26,
   "metadata": {},
   "outputs": [
    {
     "data": {
      "image/png": "[encoded data removed]",
      "text/plain": [
       "<Figure size 360x360 with 1 Axes>"
      ]
     },
     "metadata": {
      "needs_background": "light"
     },
     "output_type": "display_data"
    }
   ],
   "source": [
    "#visualizing the distribution of the price column\n",
    "sns.displot(train[\"price\"])\n",
    "plt.savefig(\"before_sqrt.png\");"
   ]
  },
  {
   "cell_type": "code",
   "execution_count": 27,
   "metadata": {},
   "outputs": [
    {
     "data": {
      "image/png": "[encoded data removed]",
      "text/plain": [
       "<Figure size 360x360 with 1 Axes>"
      ]
     },
     "metadata": {
      "needs_background": "light"
     },
     "output_type": "display_data"
    }
   ],
   "source": [
    "#Using square root transformation approch to normalize the data\n",
    "train[\"price\"] = np.sqrt(train[\"price\"])\n",
    "sns.displot(train[\"price\"])\n",
    "plt.savefig(\"after_sqrt.png\")"
   ]
  },
  {
   "cell_type": "code",
   "execution_count": 28,
   "metadata": {},
   "outputs": [],
   "source": [
    "#creating a new feature in the train and test dataset which is the ratio of num of bedrooms to num of bathrooms\n",
    "train[\"bedroom/bathroom\"] = train[\"bedroom\"]/train[\"bathroom\"]\n",
    "test[\"bedroom/bathroom\"] = test[\"bedroom\"]/test[\"bathroom\"]"
   ]
  },
  {
   "cell_type": "code",
   "execution_count": 29,
   "metadata": {},
   "outputs": [
    {
     "name": "stdout",
     "output_type": "stream",
     "text": [
      "(14000, 7)\n",
      "(6000, 6)\n"
     ]
    }
   ],
   "source": [
    "#displaying thr number of new rows and columns of the train and test dataset\n",
    "print(train.shape)\n",
    "print(test.shape)"
   ]
  },
  {
   "cell_type": "code",
   "execution_count": 30,
   "metadata": {},
   "outputs": [],
   "source": [
    "#Encoding the house type column\n",
    "house_type = {\n",
    "    'Cottage': 1,\n",
    "    'Bungalow': 2,\n",
    "    'Townhouse': 3,\n",
    "    'Terrace duplex': 4,\n",
    "    'Detached duplex': 5,\n",
    "    'Semi-detached duplex': 6,\n",
    "    'Flat': 7,\n",
    "    'Penthouse': 8,\n",
    "    'Apartment': 9,\n",
    "    'Mansion': 10\n",
    "}\n",
    "\n",
    "# Map the house types to numerical values based on size ranking\n",
    "train[\"title\"] = train[\"title\"].map(house_type)\n",
    "test[\"title\"] = test[\"title\"].map(house_type)"
   ]
  },
  {
   "cell_type": "code",
   "execution_count": 31,
   "metadata": {},
   "outputs": [],
   "source": [
    "#encoding the location column using label encoder\n",
    "le = LabelEncoder()\n",
    "train[\"loc\"] = le.fit_transform(train[\"loc\"])\n",
    "test[\"loc\"] = le.transform(test[\"loc\"])"
   ]
  },
  {
   "attachments": {},
   "cell_type": "markdown",
   "metadata": {},
   "source": [
    "### Machine learning"
   ]
  },
  {
   "cell_type": "code",
   "execution_count": 34,
   "metadata": {},
   "outputs": [
    {
     "name": "stdout",
     "output_type": "stream",
     "text": [
      "   loc  title   bedroom  bathroom  parking_space        price  \\\n",
      "0   19      6  2.000000       2.0       1.000000  1072.380327   \n",
      "1   27      9  4.308171       2.0       4.000000  1293.219505   \n",
      "2   12      7  7.000000       5.0       3.169825  1834.339067   \n",
      "3    3      5  5.000000       2.0       4.000000  1552.516266   \n",
      "4   21      4  4.308171       5.0       6.000000  1612.668874   \n",
      "\n",
      "   bedroom/bathroom  \n",
      "0          1.000000  \n",
      "1          2.154086  \n",
      "2          1.400000  \n",
      "3          2.500000  \n",
      "4          0.861634  \n",
      "   loc  title  bedroom  bathroom  parking_space  bedroom/bathroom\n",
      "0   18      8        4         1              2          4.000000\n",
      "1    1      9        2         2              4          1.000000\n",
      "2    1      2        2         7              2          0.285714\n",
      "3   23     10        9         5              2          1.800000\n",
      "4   14      6        5         6              1          0.833333\n"
     ]
    }
   ],
   "source": [
    "# Print the updated dataframe\n",
    "print(train.head())\n",
    "print(test.head())"
   ]
  },
  {
   "cell_type": "code",
   "execution_count": 35,
   "metadata": {},
   "outputs": [
    {
     "name": "stdout",
     "output_type": "stream",
     "text": [
      "(14000, 6)\n",
      "(14000,)\n"
     ]
    }
   ],
   "source": [
    "#Splitting into features and target\n",
    "X= train.drop(columns=[\"price\"], axis=1)\n",
    "y = train[\"price\"]\n",
    "print(X.shape)\n",
    "print(y.shape)"
   ]
  },
  {
   "cell_type": "code",
   "execution_count": 36,
   "metadata": {
    "scrolled": true
   },
   "outputs": [
    {
     "name": "stdout",
     "output_type": "stream",
     "text": [
      "   loc  title   bedroom  bathroom  parking_space  bedroom/bathroom\n",
      "0   19      6  2.000000       2.0       1.000000          1.000000\n",
      "1   27      9  4.308171       2.0       4.000000          2.154086\n",
      "2   12      7  7.000000       5.0       3.169825          1.400000\n",
      "3    3      5  5.000000       2.0       4.000000          2.500000\n",
      "4   21      4  4.308171       5.0       6.000000          0.861634\n",
      "0    1072.380327\n",
      "1    1293.219505\n",
      "2    1834.339067\n",
      "3    1552.516266\n",
      "4    1612.668874\n",
      "Name: price, dtype: float64\n"
     ]
    }
   ],
   "source": [
    "#displaying the head of the features and target column\n",
    "print(X.head())\n",
    "print(y.head())"
   ]
  },
  {
   "cell_type": "code",
   "execution_count": 37,
   "metadata": {},
   "outputs": [],
   "source": [
    "#Using the train test split function to split into training and testing\n",
    "X_train, X_test, y_train, y_test = train_test_split(X, y, test_size=0.2, random_state=2)"
   ]
  },
  {
   "cell_type": "code",
   "execution_count": 38,
   "metadata": {
    "scrolled": true
   },
   "outputs": [
    {
     "name": "stdout",
     "output_type": "stream",
     "text": [
      "(14000, 6) (11200, 6) (2800, 6)\n",
      "(14000,) (11200,) (2800,)\n"
     ]
    }
   ],
   "source": [
    "#displaying the shape of the X and y variables\n",
    "print(X.shape, X_train.shape, X_test.shape)\n",
    "print(y.shape, y_train.shape, y_test.shape)"
   ]
  },
  {
   "attachments": {},
   "cell_type": "markdown",
   "metadata": {},
   "source": [
    "### Model Building"
   ]
  },
  {
   "cell_type": "code",
   "execution_count": 74,
   "metadata": {},
   "outputs": [],
   "source": [
    "#setting the parameters\n",
    "params = {\n",
    "    \"n_estimators\": 1000,\n",
    "    \"random_state\": 42,\n",
    "    \"learning_rate\": 0.032, \n",
    "    \"max_depth\": 7\n",
    "}"
   ]
  },
  {
   "cell_type": "code",
   "execution_count": 75,
   "metadata": {},
   "outputs": [],
   "source": [
    "#Instantiating the model\n",
    "model1 = LGBMRegressor(**params)\n",
    "model2 = CatBoostRegressor(**params)"
   ]
  },
  {
   "cell_type": "code",
   "execution_count": 76,
   "metadata": {},
   "outputs": [],
   "source": [
    "#ensembling the models\n",
    "model = VotingRegressor(estimators=[(\"lgbm\", model1), (\"catboost\", model2)])"
   ]
  },
  {
   "cell_type": "code",
   "execution_count": 77,
   "metadata": {},
   "outputs": [],
   "source": [
    "#performimg KFold cross validation \n",
    "kfold = KFold(n_splits=7, shuffle=True, random_state=42)"
   ]
  },
  {
   "cell_type": "code",
   "execution_count": 78,
   "metadata": {},
   "outputs": [],
   "source": [
    "#instantiating an empty list to store the values of mse and rmse \n",
    "mse_scores = []\n",
    "rmse_scores = []"
   ]
  },
  {
   "cell_type": "code",
   "execution_count": 79,
   "metadata": {},
   "outputs": [],
   "source": [
    "for train_index, test_index in kfold.split(X,y):\n",
    "    X_train, X_test = X.iloc[train_index], X.iloc[test_index]\n",
    "    y_train, y_test = y.iloc[train_index], y.iloc[test_index]"
   ]
  },
  {
   "cell_type": "code",
   "execution_count": 80,
   "metadata": {},
   "outputs": [
    {
     "name": "stdout",
     "output_type": "stream",
     "text": [
      "0:\tlearn: 325.1618954\ttotal: 10.4ms\tremaining: 10.4s\n",
      "1:\tlearn: 319.8760498\ttotal: 16.1ms\tremaining: 8.03s\n",
      "2:\tlearn: 314.5021589\ttotal: 25.9ms\tremaining: 8.62s\n",
      "3:\tlearn: 309.3910678\ttotal: 31.4ms\tremaining: 7.83s\n",
      "4:\tlearn: 304.9189615\ttotal: 42.7ms\tremaining: 8.49s\n",
      "5:\tlearn: 300.6802238\ttotal: 48.9ms\tremaining: 8.11s\n",
      "6:\tlearn: 296.1011327\ttotal: 58.5ms\tremaining: 8.3s\n",
      "7:\tlearn: 292.3111777\ttotal: 63.8ms\tremaining: 7.91s\n",
      "8:\tlearn: 288.6465669\ttotal: 73.7ms\tremaining: 8.11s\n",
      "9:\tlearn: 284.9563149\ttotal: 79ms\tremaining: 7.83s\n",
      "10:\tlearn: 281.4943633\ttotal: 89ms\tremaining: 8s\n",
      "11:\tlearn: 277.8045716\ttotal: 95.3ms\tremaining: 7.85s\n",
      "12:\tlearn: 274.6403402\ttotal: 105ms\tremaining: 7.99s\n",
      "13:\tlearn: 271.6251501\ttotal: 111ms\tremaining: 7.8s\n",
      "14:\tlearn: 268.1294035\ttotal: 120ms\tremaining: 7.89s\n",
      "15:\tlearn: 264.9586716\ttotal: 126ms\tremaining: 7.75s\n",
      "16:\tlearn: 262.2708618\ttotal: 137ms\tremaining: 7.93s\n",
      "17:\tlearn: 259.0745729\ttotal: 143ms\tremaining: 7.78s\n",
      "18:\tlearn: 256.2168142\ttotal: 151ms\tremaining: 7.82s\n",
      "19:\tlearn: 253.6195510\ttotal: 157ms\tremaining: 7.71s\n",
      "20:\tlearn: 251.0925777\ttotal: 166ms\tremaining: 7.73s\n",
      "21:\tlearn: 248.2163871\ttotal: 172ms\tremaining: 7.65s\n",
      "22:\tlearn: 245.6260630\ttotal: 180ms\tremaining: 7.67s\n",
      "23:\tlearn: 243.5386863\ttotal: 189ms\tremaining: 7.68s\n",
      "24:\tlearn: 241.4051861\ttotal: 197ms\tremaining: 7.7s\n",
      "25:\tlearn: 238.9714448\ttotal: 204ms\tremaining: 7.66s\n",
      "26:\tlearn: 236.9160405\ttotal: 213ms\tremaining: 7.66s\n",
      "27:\tlearn: 234.9843268\ttotal: 219ms\tremaining: 7.6s\n",
      "28:\tlearn: 233.3093628\ttotal: 227ms\tremaining: 7.59s\n",
      "29:\tlearn: 231.2219984\ttotal: 233ms\tremaining: 7.54s\n",
      "30:\tlearn: 229.7352135\ttotal: 239ms\tremaining: 7.46s\n",
      "31:\tlearn: 228.1327967\ttotal: 248ms\tremaining: 7.51s\n",
      "32:\tlearn: 226.5459775\ttotal: 254ms\tremaining: 7.44s\n",
      "33:\tlearn: 225.0009510\ttotal: 264ms\tremaining: 7.51s\n",
      "34:\tlearn: 223.6116314\ttotal: 270ms\tremaining: 7.44s\n",
      "35:\tlearn: 222.3372703\ttotal: 279ms\tremaining: 7.48s\n",
      "36:\tlearn: 221.1004830\ttotal: 285ms\tremaining: 7.43s\n",
      "37:\tlearn: 220.1341403\ttotal: 295ms\tremaining: 7.46s\n",
      "38:\tlearn: 218.5088024\ttotal: 300ms\tremaining: 7.39s\n",
      "39:\tlearn: 217.3398673\ttotal: 310ms\tremaining: 7.43s\n",
      "40:\tlearn: 215.8140450\ttotal: 315ms\tremaining: 7.37s\n",
      "41:\tlearn: 214.9411283\ttotal: 325ms\tremaining: 7.42s\n",
      "42:\tlearn: 213.9215278\ttotal: 332ms\tremaining: 7.39s\n",
      "43:\tlearn: 213.0637173\ttotal: 342ms\tremaining: 7.44s\n",
      "44:\tlearn: 212.1415404\ttotal: 348ms\tremaining: 7.38s\n",
      "45:\tlearn: 211.2274196\ttotal: 359ms\tremaining: 7.45s\n",
      "46:\tlearn: 210.4538027\ttotal: 367ms\tremaining: 7.45s\n",
      "47:\tlearn: 209.6504254\ttotal: 375ms\tremaining: 7.43s\n",
      "48:\tlearn: 208.6968652\ttotal: 380ms\tremaining: 7.37s\n",
      "49:\tlearn: 207.9485045\ttotal: 392ms\tremaining: 7.44s\n",
      "50:\tlearn: 207.2716227\ttotal: 400ms\tremaining: 7.43s\n",
      "51:\tlearn: 205.9671824\ttotal: 406ms\tremaining: 7.4s\n",
      "52:\tlearn: 205.2779579\ttotal: 412ms\tremaining: 7.36s\n",
      "53:\tlearn: 204.0706955\ttotal: 420ms\tremaining: 7.36s\n",
      "54:\tlearn: 203.3929731\ttotal: 426ms\tremaining: 7.31s\n",
      "55:\tlearn: 202.9097365\ttotal: 435ms\tremaining: 7.33s\n",
      "56:\tlearn: 201.8659885\ttotal: 440ms\tremaining: 7.29s\n",
      "57:\tlearn: 201.5337189\ttotal: 448ms\tremaining: 7.28s\n",
      "58:\tlearn: 200.4092297\ttotal: 454ms\tremaining: 7.24s\n",
      "59:\tlearn: 199.5441082\ttotal: 464ms\tremaining: 7.27s\n",
      "60:\tlearn: 199.0069078\ttotal: 470ms\tremaining: 7.23s\n",
      "61:\tlearn: 198.4811426\ttotal: 478ms\tremaining: 7.23s\n",
      "62:\tlearn: 197.4742470\ttotal: 484ms\tremaining: 7.2s\n",
      "63:\tlearn: 196.5334292\ttotal: 490ms\tremaining: 7.16s\n",
      "64:\tlearn: 195.8471341\ttotal: 499ms\tremaining: 7.17s\n",
      "65:\tlearn: 195.1209553\ttotal: 504ms\tremaining: 7.13s\n",
      "66:\tlearn: 194.4826289\ttotal: 513ms\tremaining: 7.15s\n",
      "67:\tlearn: 194.1542329\ttotal: 520ms\tremaining: 7.12s\n",
      "68:\tlearn: 193.6291778\ttotal: 529ms\tremaining: 7.14s\n",
      "69:\tlearn: 192.8571480\ttotal: 534ms\tremaining: 7.1s\n",
      "70:\tlearn: 192.6061518\ttotal: 546ms\tremaining: 7.14s\n",
      "71:\tlearn: 192.1849638\ttotal: 551ms\tremaining: 7.1s\n",
      "72:\tlearn: 191.7448243\ttotal: 561ms\tremaining: 7.12s\n",
      "73:\tlearn: 191.2831045\ttotal: 567ms\tremaining: 7.09s\n",
      "74:\tlearn: 190.7861008\ttotal: 576ms\tremaining: 7.11s\n",
      "75:\tlearn: 190.3683307\ttotal: 583ms\tremaining: 7.08s\n",
      "76:\tlearn: 189.8890945\ttotal: 593ms\tremaining: 7.11s\n",
      "77:\tlearn: 189.1310549\ttotal: 599ms\tremaining: 7.08s\n",
      "78:\tlearn: 188.7191744\ttotal: 608ms\tremaining: 7.08s\n",
      "79:\tlearn: 188.0338263\ttotal: 614ms\tremaining: 7.06s\n",
      "80:\tlearn: 187.6759641\ttotal: 624ms\tremaining: 7.08s\n",
      "81:\tlearn: 187.3558345\ttotal: 630ms\tremaining: 7.05s\n",
      "82:\tlearn: 187.1023302\ttotal: 638ms\tremaining: 7.05s\n",
      "83:\tlearn: 186.7923849\ttotal: 644ms\tremaining: 7.02s\n",
      "84:\tlearn: 186.1704080\ttotal: 652ms\tremaining: 7.02s\n",
      "85:\tlearn: 185.4661702\ttotal: 658ms\tremaining: 6.99s\n",
      "86:\tlearn: 184.9487922\ttotal: 663ms\tremaining: 6.96s\n",
      "87:\tlearn: 184.7065311\ttotal: 671ms\tremaining: 6.95s\n",
      "88:\tlearn: 184.4678866\ttotal: 676ms\tremaining: 6.92s\n",
      "89:\tlearn: 184.2001555\ttotal: 683ms\tremaining: 6.91s\n",
      "90:\tlearn: 183.7946938\ttotal: 690ms\tremaining: 6.89s\n",
      "91:\tlearn: 183.2997587\ttotal: 696ms\tremaining: 6.87s\n",
      "92:\tlearn: 182.7439161\ttotal: 704ms\tremaining: 6.87s\n",
      "93:\tlearn: 182.2042963\ttotal: 710ms\tremaining: 6.84s\n",
      "94:\tlearn: 181.9132697\ttotal: 719ms\tremaining: 6.84s\n",
      "95:\tlearn: 181.4625312\ttotal: 726ms\tremaining: 6.83s\n",
      "96:\tlearn: 181.0718351\ttotal: 734ms\tremaining: 6.83s\n",
      "97:\tlearn: 180.6379841\ttotal: 740ms\tremaining: 6.81s\n",
      "98:\tlearn: 180.2951722\ttotal: 749ms\tremaining: 6.82s\n",
      "99:\tlearn: 179.9084779\ttotal: 755ms\tremaining: 6.8s\n",
      "100:\tlearn: 179.4270400\ttotal: 764ms\tremaining: 6.8s\n",
      "101:\tlearn: 179.1638880\ttotal: 770ms\tremaining: 6.78s\n",
      "102:\tlearn: 178.9223324\ttotal: 776ms\tremaining: 6.76s\n",
      "103:\tlearn: 178.5751747\ttotal: 783ms\tremaining: 6.75s\n",
      "104:\tlearn: 178.3828391\ttotal: 789ms\tremaining: 6.72s\n",
      "105:\tlearn: 178.1261331\ttotal: 797ms\tremaining: 6.72s\n",
      "106:\tlearn: 177.9507301\ttotal: 803ms\tremaining: 6.7s\n",
      "107:\tlearn: 177.6185524\ttotal: 811ms\tremaining: 6.7s\n",
      "108:\tlearn: 177.1703558\ttotal: 817ms\tremaining: 6.68s\n",
      "109:\tlearn: 176.7599986\ttotal: 824ms\tremaining: 6.67s\n",
      "110:\tlearn: 176.4848790\ttotal: 831ms\tremaining: 6.66s\n",
      "111:\tlearn: 175.9685422\ttotal: 838ms\tremaining: 6.64s\n",
      "112:\tlearn: 175.6300746\ttotal: 845ms\tremaining: 6.63s\n",
      "113:\tlearn: 175.2303645\ttotal: 856ms\tremaining: 6.65s\n",
      "114:\tlearn: 174.8180026\ttotal: 863ms\tremaining: 6.64s\n",
      "115:\tlearn: 174.5976469\ttotal: 869ms\tremaining: 6.62s\n",
      "116:\tlearn: 174.4192428\ttotal: 877ms\tremaining: 6.62s\n",
      "117:\tlearn: 174.2110319\ttotal: 884ms\tremaining: 6.61s\n",
      "118:\tlearn: 173.8246451\ttotal: 893ms\tremaining: 6.61s\n",
      "119:\tlearn: 173.5578012\ttotal: 899ms\tremaining: 6.59s\n",
      "120:\tlearn: 173.3171066\ttotal: 907ms\tremaining: 6.59s\n",
      "121:\tlearn: 173.0186678\ttotal: 914ms\tremaining: 6.58s\n",
      "122:\tlearn: 172.8415822\ttotal: 922ms\tremaining: 6.58s\n",
      "123:\tlearn: 172.6721524\ttotal: 928ms\tremaining: 6.55s\n",
      "124:\tlearn: 172.4462693\ttotal: 940ms\tremaining: 6.58s\n",
      "125:\tlearn: 172.1095335\ttotal: 948ms\tremaining: 6.57s\n",
      "126:\tlearn: 172.0026736\ttotal: 955ms\tremaining: 6.56s\n",
      "127:\tlearn: 171.5729701\ttotal: 960ms\tremaining: 6.54s\n",
      "128:\tlearn: 171.1911576\ttotal: 969ms\tremaining: 6.54s\n",
      "129:\tlearn: 170.8508348\ttotal: 974ms\tremaining: 6.52s\n",
      "130:\tlearn: 170.7448353\ttotal: 983ms\tremaining: 6.52s\n",
      "131:\tlearn: 170.5908975\ttotal: 989ms\tremaining: 6.5s\n",
      "132:\tlearn: 170.2754364\ttotal: 996ms\tremaining: 6.49s\n",
      "133:\tlearn: 169.9970510\ttotal: 1s\tremaining: 6.48s\n",
      "134:\tlearn: 169.8218088\ttotal: 1.01s\tremaining: 6.46s\n",
      "135:\tlearn: 169.5883858\ttotal: 1.01s\tremaining: 6.45s\n",
      "136:\tlearn: 169.2612811\ttotal: 1.02s\tremaining: 6.44s\n",
      "137:\tlearn: 169.1140436\ttotal: 1.03s\tremaining: 6.43s\n",
      "138:\tlearn: 168.8886086\ttotal: 1.03s\tremaining: 6.42s\n",
      "139:\tlearn: 168.5828548\ttotal: 1.04s\tremaining: 6.4s\n",
      "140:\tlearn: 168.4509826\ttotal: 1.05s\tremaining: 6.39s\n",
      "141:\tlearn: 168.1932066\ttotal: 1.05s\tremaining: 6.38s\n",
      "142:\tlearn: 168.1025834\ttotal: 1.06s\tremaining: 6.37s\n",
      "143:\tlearn: 167.8890893\ttotal: 1.07s\tremaining: 6.35s\n",
      "144:\tlearn: 167.7639879\ttotal: 1.07s\tremaining: 6.34s\n",
      "145:\tlearn: 167.6042163\ttotal: 1.08s\tremaining: 6.32s\n",
      "146:\tlearn: 167.4330808\ttotal: 1.09s\tremaining: 6.31s\n",
      "147:\tlearn: 167.2060103\ttotal: 1.09s\tremaining: 6.29s\n",
      "148:\tlearn: 167.0479320\ttotal: 1.1s\tremaining: 6.28s\n",
      "149:\tlearn: 166.7866184\ttotal: 1.11s\tremaining: 6.27s\n",
      "150:\tlearn: 166.4778401\ttotal: 1.11s\tremaining: 6.25s\n",
      "151:\tlearn: 166.4160512\ttotal: 1.12s\tremaining: 6.23s\n",
      "152:\tlearn: 166.2139056\ttotal: 1.12s\tremaining: 6.22s\n",
      "153:\tlearn: 166.0686079\ttotal: 1.13s\tremaining: 6.2s\n",
      "154:\tlearn: 165.8195022\ttotal: 1.13s\tremaining: 6.18s\n",
      "155:\tlearn: 165.7231096\ttotal: 1.14s\tremaining: 6.17s\n",
      "156:\tlearn: 165.5389825\ttotal: 1.15s\tremaining: 6.15s\n",
      "157:\tlearn: 165.3485476\ttotal: 1.15s\tremaining: 6.14s\n",
      "158:\tlearn: 165.1719140\ttotal: 1.16s\tremaining: 6.13s\n",
      "159:\tlearn: 164.9614092\ttotal: 1.17s\tremaining: 6.13s\n",
      "160:\tlearn: 164.8744530\ttotal: 1.17s\tremaining: 6.11s\n",
      "161:\tlearn: 164.7934218\ttotal: 1.18s\tremaining: 6.09s\n",
      "162:\tlearn: 164.6728758\ttotal: 1.18s\tremaining: 6.08s\n",
      "163:\tlearn: 164.5212136\ttotal: 1.19s\tremaining: 6.07s\n",
      "164:\tlearn: 164.4058678\ttotal: 1.19s\tremaining: 6.05s\n",
      "165:\tlearn: 164.3206851\ttotal: 1.2s\tremaining: 6.04s\n",
      "166:\tlearn: 164.1299638\ttotal: 1.21s\tremaining: 6.02s\n",
      "167:\tlearn: 163.9478400\ttotal: 1.21s\tremaining: 6.01s\n",
      "168:\tlearn: 163.8855887\ttotal: 1.22s\tremaining: 5.99s\n",
      "169:\tlearn: 163.8057191\ttotal: 1.22s\tremaining: 5.97s\n",
      "170:\tlearn: 163.6201179\ttotal: 1.23s\tremaining: 5.96s\n",
      "171:\tlearn: 163.4731889\ttotal: 1.24s\tremaining: 5.95s\n",
      "172:\tlearn: 163.3084686\ttotal: 1.24s\tremaining: 5.93s\n",
      "173:\tlearn: 163.1716748\ttotal: 1.25s\tremaining: 5.92s\n",
      "174:\tlearn: 163.0044417\ttotal: 1.25s\tremaining: 5.9s\n",
      "175:\tlearn: 162.8569184\ttotal: 1.26s\tremaining: 5.89s\n",
      "176:\tlearn: 162.6795865\ttotal: 1.26s\tremaining: 5.88s\n",
      "177:\tlearn: 162.6118510\ttotal: 1.27s\tremaining: 5.87s\n",
      "178:\tlearn: 162.5034562\ttotal: 1.28s\tremaining: 5.86s\n",
      "179:\tlearn: 162.4483558\ttotal: 1.28s\tremaining: 5.85s\n",
      "180:\tlearn: 162.2170192\ttotal: 1.29s\tremaining: 5.83s\n",
      "181:\tlearn: 162.1005529\ttotal: 1.3s\tremaining: 5.83s\n",
      "182:\tlearn: 161.9915164\ttotal: 1.3s\tremaining: 5.81s\n",
      "183:\tlearn: 161.8328041\ttotal: 1.31s\tremaining: 5.8s\n",
      "184:\tlearn: 161.6127698\ttotal: 1.31s\tremaining: 5.79s\n",
      "185:\tlearn: 161.5646819\ttotal: 1.32s\tremaining: 5.77s\n",
      "186:\tlearn: 161.3920918\ttotal: 1.32s\tremaining: 5.76s\n",
      "187:\tlearn: 161.1192277\ttotal: 1.33s\tremaining: 5.75s\n",
      "188:\tlearn: 161.0350296\ttotal: 1.33s\tremaining: 5.73s\n",
      "189:\tlearn: 160.9216603\ttotal: 1.34s\tremaining: 5.72s\n",
      "190:\tlearn: 160.7436491\ttotal: 1.35s\tremaining: 5.71s\n",
      "191:\tlearn: 160.6951996\ttotal: 1.35s\tremaining: 5.7s\n",
      "192:\tlearn: 160.6121642\ttotal: 1.36s\tremaining: 5.68s\n",
      "193:\tlearn: 160.5394882\ttotal: 1.36s\tremaining: 5.67s\n",
      "194:\tlearn: 160.4338933\ttotal: 1.37s\tremaining: 5.66s\n",
      "195:\tlearn: 160.1778616\ttotal: 1.38s\tremaining: 5.65s\n",
      "196:\tlearn: 160.1060843\ttotal: 1.38s\tremaining: 5.63s\n",
      "197:\tlearn: 160.0035669\ttotal: 1.39s\tremaining: 5.62s\n",
      "198:\tlearn: 159.8145085\ttotal: 1.39s\tremaining: 5.61s\n",
      "199:\tlearn: 159.7009767\ttotal: 1.4s\tremaining: 5.6s\n",
      "200:\tlearn: 159.5172572\ttotal: 1.41s\tremaining: 5.59s\n",
      "201:\tlearn: 159.3513137\ttotal: 1.41s\tremaining: 5.57s\n",
      "202:\tlearn: 159.2997322\ttotal: 1.42s\tremaining: 5.57s\n",
      "203:\tlearn: 159.2173022\ttotal: 1.42s\tremaining: 5.55s\n",
      "204:\tlearn: 159.1630018\ttotal: 1.43s\tremaining: 5.54s\n",
      "205:\tlearn: 159.0740297\ttotal: 1.44s\tremaining: 5.54s\n",
      "206:\tlearn: 159.0037243\ttotal: 1.44s\tremaining: 5.53s\n",
      "207:\tlearn: 158.9542831\ttotal: 1.45s\tremaining: 5.52s\n",
      "208:\tlearn: 158.8741979\ttotal: 1.45s\tremaining: 5.51s\n",
      "209:\tlearn: 158.7387536\ttotal: 1.46s\tremaining: 5.49s\n",
      "210:\tlearn: 158.6330615\ttotal: 1.47s\tremaining: 5.48s\n",
      "211:\tlearn: 158.5332830\ttotal: 1.47s\tremaining: 5.47s\n",
      "212:\tlearn: 158.3736092\ttotal: 1.48s\tremaining: 5.46s\n",
      "213:\tlearn: 158.2100823\ttotal: 1.48s\tremaining: 5.45s\n",
      "214:\tlearn: 158.1357318\ttotal: 1.49s\tremaining: 5.44s\n",
      "215:\tlearn: 158.0169979\ttotal: 1.49s\tremaining: 5.42s\n",
      "216:\tlearn: 157.9858615\ttotal: 1.5s\tremaining: 5.41s\n",
      "217:\tlearn: 157.9386668\ttotal: 1.5s\tremaining: 5.4s\n",
      "218:\tlearn: 157.8539276\ttotal: 1.51s\tremaining: 5.39s\n",
      "219:\tlearn: 157.7825001\ttotal: 1.52s\tremaining: 5.38s\n",
      "220:\tlearn: 157.7390410\ttotal: 1.52s\tremaining: 5.37s\n",
      "221:\tlearn: 157.6784239\ttotal: 1.53s\tremaining: 5.36s\n",
      "222:\tlearn: 157.5385897\ttotal: 1.53s\tremaining: 5.35s\n",
      "223:\tlearn: 157.4893990\ttotal: 1.54s\tremaining: 5.33s\n",
      "224:\tlearn: 157.4329146\ttotal: 1.55s\tremaining: 5.33s\n",
      "225:\tlearn: 157.3101449\ttotal: 1.55s\tremaining: 5.32s\n",
      "226:\tlearn: 157.2084603\ttotal: 1.56s\tremaining: 5.31s\n",
      "227:\tlearn: 157.0926344\ttotal: 1.56s\tremaining: 5.3s\n",
      "228:\tlearn: 157.0346787\ttotal: 1.57s\tremaining: 5.29s\n",
      "229:\tlearn: 156.9823698\ttotal: 1.58s\tremaining: 5.28s\n",
      "230:\tlearn: 156.9357277\ttotal: 1.58s\tremaining: 5.26s\n",
      "231:\tlearn: 156.7813043\ttotal: 1.59s\tremaining: 5.25s\n",
      "232:\tlearn: 156.7542406\ttotal: 1.59s\tremaining: 5.25s\n",
      "233:\tlearn: 156.6599999\ttotal: 1.6s\tremaining: 5.23s\n",
      "234:\tlearn: 156.5756112\ttotal: 1.6s\tremaining: 5.22s\n",
      "235:\tlearn: 156.5249246\ttotal: 1.61s\tremaining: 5.21s\n",
      "236:\tlearn: 156.4857371\ttotal: 1.62s\tremaining: 5.2s\n",
      "237:\tlearn: 156.3754093\ttotal: 1.62s\tremaining: 5.2s\n",
      "238:\tlearn: 156.2109554\ttotal: 1.63s\tremaining: 5.19s\n",
      "239:\tlearn: 156.1655378\ttotal: 1.63s\tremaining: 5.17s\n",
      "240:\tlearn: 156.1399906\ttotal: 1.64s\tremaining: 5.17s\n",
      "241:\tlearn: 156.1092489\ttotal: 1.65s\tremaining: 5.16s\n",
      "242:\tlearn: 155.9929953\ttotal: 1.66s\tremaining: 5.16s\n",
      "243:\tlearn: 155.9078745\ttotal: 1.66s\tremaining: 5.14s\n",
      "244:\tlearn: 155.7876481\ttotal: 1.67s\tremaining: 5.13s\n",
      "245:\tlearn: 155.7467195\ttotal: 1.67s\tremaining: 5.13s\n",
      "246:\tlearn: 155.6268114\ttotal: 1.68s\tremaining: 5.11s\n",
      "247:\tlearn: 155.5310020\ttotal: 1.68s\tremaining: 5.1s\n",
      "248:\tlearn: 155.4354629\ttotal: 1.69s\tremaining: 5.09s\n",
      "249:\tlearn: 155.3716165\ttotal: 1.69s\tremaining: 5.08s\n",
      "250:\tlearn: 155.3024898\ttotal: 1.7s\tremaining: 5.07s\n",
      "251:\tlearn: 155.2547641\ttotal: 1.71s\tremaining: 5.06s\n",
      "252:\tlearn: 155.2148376\ttotal: 1.71s\tremaining: 5.05s\n",
      "253:\tlearn: 155.0948688\ttotal: 1.72s\tremaining: 5.04s\n",
      "254:\tlearn: 155.0577930\ttotal: 1.72s\tremaining: 5.03s\n",
      "255:\tlearn: 154.9862585\ttotal: 1.73s\tremaining: 5.02s\n",
      "256:\tlearn: 154.8225637\ttotal: 1.73s\tremaining: 5.01s\n",
      "257:\tlearn: 154.7583801\ttotal: 1.74s\tremaining: 5s\n",
      "258:\tlearn: 154.7161580\ttotal: 1.74s\tremaining: 4.99s\n",
      "259:\tlearn: 154.6688101\ttotal: 1.75s\tremaining: 4.98s\n",
      "260:\tlearn: 154.5993814\ttotal: 1.76s\tremaining: 4.97s\n",
      "261:\tlearn: 154.5665952\ttotal: 1.76s\tremaining: 4.96s\n",
      "262:\tlearn: 154.4916558\ttotal: 1.77s\tremaining: 4.95s\n",
      "263:\tlearn: 154.4356256\ttotal: 1.77s\tremaining: 4.94s\n",
      "264:\tlearn: 154.3824730\ttotal: 1.78s\tremaining: 4.93s\n",
      "265:\tlearn: 154.2933908\ttotal: 1.78s\tremaining: 4.92s\n",
      "266:\tlearn: 154.1455496\ttotal: 1.79s\tremaining: 4.92s\n",
      "267:\tlearn: 154.0280269\ttotal: 1.8s\tremaining: 4.91s\n",
      "268:\tlearn: 153.9407406\ttotal: 1.8s\tremaining: 4.9s\n",
      "269:\tlearn: 153.8735055\ttotal: 1.81s\tremaining: 4.89s\n",
      "270:\tlearn: 153.7534529\ttotal: 1.81s\tremaining: 4.88s\n",
      "271:\tlearn: 153.6973036\ttotal: 1.82s\tremaining: 4.87s\n",
      "272:\tlearn: 153.5531419\ttotal: 1.83s\tremaining: 4.87s\n",
      "273:\tlearn: 153.4758989\ttotal: 1.83s\tremaining: 4.86s\n",
      "274:\tlearn: 153.4268805\ttotal: 1.84s\tremaining: 4.85s\n",
      "275:\tlearn: 153.3115017\ttotal: 1.84s\tremaining: 4.84s\n",
      "276:\tlearn: 153.2775213\ttotal: 1.85s\tremaining: 4.83s\n",
      "277:\tlearn: 153.1771829\ttotal: 1.86s\tremaining: 4.82s\n",
      "278:\tlearn: 153.0919123\ttotal: 1.86s\tremaining: 4.81s\n",
      "279:\tlearn: 153.0440878\ttotal: 1.87s\tremaining: 4.8s\n",
      "280:\tlearn: 153.0050031\ttotal: 1.87s\tremaining: 4.79s\n",
      "281:\tlearn: 152.9589742\ttotal: 1.88s\tremaining: 4.78s\n",
      "282:\tlearn: 152.8901704\ttotal: 1.88s\tremaining: 4.77s\n",
      "283:\tlearn: 152.8608848\ttotal: 1.89s\tremaining: 4.77s\n",
      "284:\tlearn: 152.7993287\ttotal: 1.9s\tremaining: 4.76s\n",
      "285:\tlearn: 152.7114619\ttotal: 1.9s\tremaining: 4.75s\n",
      "286:\tlearn: 152.6574549\ttotal: 1.91s\tremaining: 4.75s\n",
      "287:\tlearn: 152.6263764\ttotal: 1.92s\tremaining: 4.74s\n",
      "288:\tlearn: 152.5515999\ttotal: 1.92s\tremaining: 4.73s\n",
      "289:\tlearn: 152.4546148\ttotal: 1.93s\tremaining: 4.72s\n",
      "290:\tlearn: 152.3640038\ttotal: 1.93s\tremaining: 4.71s\n",
      "291:\tlearn: 152.2883430\ttotal: 1.94s\tremaining: 4.7s\n",
      "292:\tlearn: 152.2270415\ttotal: 1.94s\tremaining: 4.69s\n",
      "293:\tlearn: 152.1699573\ttotal: 1.95s\tremaining: 4.68s\n",
      "294:\tlearn: 152.1210780\ttotal: 1.96s\tremaining: 4.67s\n",
      "295:\tlearn: 152.0209419\ttotal: 1.96s\tremaining: 4.66s\n",
      "296:\tlearn: 151.9937965\ttotal: 1.97s\tremaining: 4.66s\n",
      "297:\tlearn: 151.9114891\ttotal: 1.97s\tremaining: 4.65s\n",
      "298:\tlearn: 151.8633878\ttotal: 1.98s\tremaining: 4.64s\n",
      "299:\tlearn: 151.7828651\ttotal: 1.99s\tremaining: 4.64s\n",
      "300:\tlearn: 151.6884426\ttotal: 1.99s\tremaining: 4.63s\n",
      "301:\tlearn: 151.6521090\ttotal: 2s\tremaining: 4.62s\n",
      "302:\tlearn: 151.5932503\ttotal: 2s\tremaining: 4.61s\n",
      "303:\tlearn: 151.5206860\ttotal: 2.01s\tremaining: 4.6s\n",
      "304:\tlearn: 151.4486448\ttotal: 2.02s\tremaining: 4.59s\n",
      "305:\tlearn: 151.3705044\ttotal: 2.02s\tremaining: 4.58s\n",
      "306:\tlearn: 151.3444701\ttotal: 2.03s\tremaining: 4.58s\n",
      "307:\tlearn: 151.2936827\ttotal: 2.03s\tremaining: 4.57s\n",
      "308:\tlearn: 151.2175572\ttotal: 2.04s\tremaining: 4.56s\n",
      "309:\tlearn: 151.1549809\ttotal: 2.04s\tremaining: 4.55s\n",
      "310:\tlearn: 151.0832385\ttotal: 2.05s\tremaining: 4.54s\n",
      "311:\tlearn: 151.0499700\ttotal: 2.06s\tremaining: 4.53s\n",
      "312:\tlearn: 150.9816632\ttotal: 2.06s\tremaining: 4.53s\n",
      "313:\tlearn: 150.9338885\ttotal: 2.07s\tremaining: 4.52s\n",
      "314:\tlearn: 150.8642482\ttotal: 2.07s\tremaining: 4.51s\n",
      "315:\tlearn: 150.8066284\ttotal: 2.08s\tremaining: 4.5s\n",
      "316:\tlearn: 150.7411131\ttotal: 2.08s\tremaining: 4.49s\n",
      "317:\tlearn: 150.6456438\ttotal: 2.09s\tremaining: 4.48s\n",
      "318:\tlearn: 150.5747135\ttotal: 2.1s\tremaining: 4.47s\n",
      "319:\tlearn: 150.4951875\ttotal: 2.1s\tremaining: 4.46s\n",
      "320:\tlearn: 150.4172462\ttotal: 2.11s\tremaining: 4.46s\n",
      "321:\tlearn: 150.3410810\ttotal: 2.11s\tremaining: 4.45s\n",
      "322:\tlearn: 150.3107438\ttotal: 2.12s\tremaining: 4.44s\n",
      "323:\tlearn: 150.2176100\ttotal: 2.13s\tremaining: 4.43s\n",
      "324:\tlearn: 150.1735438\ttotal: 2.13s\tremaining: 4.42s\n",
      "325:\tlearn: 150.1302710\ttotal: 2.13s\tremaining: 4.42s\n",
      "326:\tlearn: 150.0450350\ttotal: 2.14s\tremaining: 4.41s\n",
      "327:\tlearn: 149.9839821\ttotal: 2.15s\tremaining: 4.4s\n",
      "328:\tlearn: 149.9025031\ttotal: 2.15s\tremaining: 4.4s\n",
      "329:\tlearn: 149.8420441\ttotal: 2.16s\tremaining: 4.39s\n",
      "330:\tlearn: 149.7708838\ttotal: 2.17s\tremaining: 4.38s\n",
      "331:\tlearn: 149.7288636\ttotal: 2.17s\tremaining: 4.37s\n",
      "332:\tlearn: 149.6625792\ttotal: 2.18s\tremaining: 4.36s\n",
      "333:\tlearn: 149.5984665\ttotal: 2.18s\tremaining: 4.35s\n",
      "334:\tlearn: 149.5699928\ttotal: 2.19s\tremaining: 4.35s\n",
      "335:\tlearn: 149.4837024\ttotal: 2.19s\tremaining: 4.34s\n",
      "336:\tlearn: 149.4278479\ttotal: 2.2s\tremaining: 4.33s\n",
      "337:\tlearn: 149.3809540\ttotal: 2.21s\tremaining: 4.32s\n",
      "338:\tlearn: 149.3068191\ttotal: 2.21s\tremaining: 4.31s\n",
      "339:\tlearn: 149.2489087\ttotal: 2.22s\tremaining: 4.3s\n",
      "340:\tlearn: 149.1945948\ttotal: 2.22s\tremaining: 4.3s\n",
      "341:\tlearn: 149.1592059\ttotal: 2.23s\tremaining: 4.29s\n",
      "342:\tlearn: 149.0928172\ttotal: 2.23s\tremaining: 4.28s\n",
      "343:\tlearn: 149.0722512\ttotal: 2.24s\tremaining: 4.27s\n",
      "344:\tlearn: 149.0098265\ttotal: 2.25s\tremaining: 4.27s\n",
      "345:\tlearn: 148.9652179\ttotal: 2.25s\tremaining: 4.26s\n",
      "346:\tlearn: 148.9446688\ttotal: 2.26s\tremaining: 4.25s\n",
      "347:\tlearn: 148.9253889\ttotal: 2.26s\tremaining: 4.24s\n",
      "348:\tlearn: 148.8896890\ttotal: 2.27s\tremaining: 4.24s\n",
      "349:\tlearn: 148.8627893\ttotal: 2.28s\tremaining: 4.23s\n",
      "350:\tlearn: 148.8119200\ttotal: 2.28s\tremaining: 4.22s\n",
      "351:\tlearn: 148.7902099\ttotal: 2.29s\tremaining: 4.21s\n",
      "352:\tlearn: 148.7280839\ttotal: 2.29s\tremaining: 4.21s\n",
      "353:\tlearn: 148.6600764\ttotal: 2.3s\tremaining: 4.2s\n",
      "354:\tlearn: 148.6167321\ttotal: 2.31s\tremaining: 4.19s\n",
      "355:\tlearn: 148.5893859\ttotal: 2.31s\tremaining: 4.18s\n",
      "356:\tlearn: 148.5581790\ttotal: 2.32s\tremaining: 4.18s\n",
      "357:\tlearn: 148.5199709\ttotal: 2.32s\tremaining: 4.17s\n",
      "358:\tlearn: 148.4671653\ttotal: 2.33s\tremaining: 4.16s\n",
      "359:\tlearn: 148.4132443\ttotal: 2.34s\tremaining: 4.15s\n",
      "360:\tlearn: 148.3489288\ttotal: 2.34s\tremaining: 4.15s\n",
      "361:\tlearn: 148.3077090\ttotal: 2.35s\tremaining: 4.14s\n",
      "362:\tlearn: 148.2886387\ttotal: 2.35s\tremaining: 4.13s\n",
      "363:\tlearn: 148.2548122\ttotal: 2.36s\tremaining: 4.12s\n",
      "364:\tlearn: 148.1880704\ttotal: 2.37s\tremaining: 4.12s\n",
      "365:\tlearn: 148.1384398\ttotal: 2.37s\tremaining: 4.11s\n",
      "366:\tlearn: 148.1138917\ttotal: 2.38s\tremaining: 4.1s\n",
      "367:\tlearn: 148.0889013\ttotal: 2.38s\tremaining: 4.09s\n",
      "368:\tlearn: 148.0410707\ttotal: 2.39s\tremaining: 4.09s\n",
      "369:\tlearn: 147.9934533\ttotal: 2.4s\tremaining: 4.08s\n",
      "370:\tlearn: 147.9423391\ttotal: 2.4s\tremaining: 4.07s\n",
      "371:\tlearn: 147.9062290\ttotal: 2.41s\tremaining: 4.06s\n",
      "372:\tlearn: 147.8577472\ttotal: 2.41s\tremaining: 4.06s\n",
      "373:\tlearn: 147.8378002\ttotal: 2.42s\tremaining: 4.05s\n",
      "374:\tlearn: 147.8041265\ttotal: 2.42s\tremaining: 4.04s\n",
      "375:\tlearn: 147.7548390\ttotal: 2.43s\tremaining: 4.03s\n",
      "376:\tlearn: 147.7313785\ttotal: 2.44s\tremaining: 4.03s\n",
      "377:\tlearn: 147.6896940\ttotal: 2.44s\tremaining: 4.02s\n",
      "378:\tlearn: 147.6555756\ttotal: 2.45s\tremaining: 4.01s\n",
      "379:\tlearn: 147.6205256\ttotal: 2.45s\tremaining: 4s\n",
      "380:\tlearn: 147.5754620\ttotal: 2.46s\tremaining: 4s\n",
      "381:\tlearn: 147.5193575\ttotal: 2.46s\tremaining: 3.99s\n",
      "382:\tlearn: 147.4959323\ttotal: 2.47s\tremaining: 3.98s\n",
      "383:\tlearn: 147.4659253\ttotal: 2.48s\tremaining: 3.97s\n",
      "384:\tlearn: 147.4229949\ttotal: 2.48s\tremaining: 3.96s\n",
      "385:\tlearn: 147.3692920\ttotal: 2.49s\tremaining: 3.96s\n",
      "386:\tlearn: 147.3333139\ttotal: 2.5s\tremaining: 3.95s\n",
      "387:\tlearn: 147.3102840\ttotal: 2.5s\tremaining: 3.95s\n",
      "388:\tlearn: 147.2942222\ttotal: 2.51s\tremaining: 3.94s\n",
      "389:\tlearn: 147.2777076\ttotal: 2.52s\tremaining: 3.93s\n",
      "390:\tlearn: 147.2505253\ttotal: 2.52s\tremaining: 3.93s\n",
      "391:\tlearn: 147.2205346\ttotal: 2.52s\tremaining: 3.92s\n",
      "392:\tlearn: 147.1891893\ttotal: 2.53s\tremaining: 3.91s\n",
      "393:\tlearn: 147.1551018\ttotal: 2.54s\tremaining: 3.9s\n",
      "394:\tlearn: 147.1142506\ttotal: 2.54s\tremaining: 3.89s\n",
      "395:\tlearn: 147.0612575\ttotal: 2.55s\tremaining: 3.89s\n",
      "396:\tlearn: 147.0113303\ttotal: 2.55s\tremaining: 3.88s\n",
      "397:\tlearn: 146.9792493\ttotal: 2.56s\tremaining: 3.87s\n",
      "398:\tlearn: 146.9509603\ttotal: 2.56s\tremaining: 3.86s\n",
      "399:\tlearn: 146.9210755\ttotal: 2.57s\tremaining: 3.86s\n",
      "400:\tlearn: 146.8789971\ttotal: 2.58s\tremaining: 3.85s\n",
      "401:\tlearn: 146.8483804\ttotal: 2.58s\tremaining: 3.84s\n",
      "402:\tlearn: 146.8152393\ttotal: 2.59s\tremaining: 3.83s\n",
      "403:\tlearn: 146.7888485\ttotal: 2.59s\tremaining: 3.83s\n",
      "404:\tlearn: 146.7471528\ttotal: 2.6s\tremaining: 3.82s\n",
      "405:\tlearn: 146.7076284\ttotal: 2.6s\tremaining: 3.81s\n",
      "406:\tlearn: 146.6887614\ttotal: 2.61s\tremaining: 3.81s\n",
      "407:\tlearn: 146.6615840\ttotal: 2.62s\tremaining: 3.8s\n",
      "408:\tlearn: 146.6366921\ttotal: 2.62s\tremaining: 3.79s\n",
      "409:\tlearn: 146.5944018\ttotal: 2.63s\tremaining: 3.78s\n",
      "410:\tlearn: 146.5808950\ttotal: 2.63s\tremaining: 3.77s\n",
      "411:\tlearn: 146.5641614\ttotal: 2.64s\tremaining: 3.77s\n",
      "412:\tlearn: 146.5253613\ttotal: 2.65s\tremaining: 3.76s\n",
      "413:\tlearn: 146.4871824\ttotal: 2.65s\tremaining: 3.75s\n",
      "414:\tlearn: 146.4680301\ttotal: 2.66s\tremaining: 3.75s\n",
      "415:\tlearn: 146.4295428\ttotal: 2.66s\tremaining: 3.74s\n",
      "416:\tlearn: 146.4127676\ttotal: 2.67s\tremaining: 3.74s\n",
      "417:\tlearn: 146.3833032\ttotal: 2.68s\tremaining: 3.73s\n",
      "418:\tlearn: 146.3574538\ttotal: 2.68s\tremaining: 3.72s\n",
      "419:\tlearn: 146.3284895\ttotal: 2.69s\tremaining: 3.71s\n",
      "420:\tlearn: 146.3080728\ttotal: 2.69s\tremaining: 3.71s\n",
      "421:\tlearn: 146.2857919\ttotal: 2.7s\tremaining: 3.7s\n",
      "422:\tlearn: 146.2550001\ttotal: 2.71s\tremaining: 3.69s\n",
      "423:\tlearn: 146.2181363\ttotal: 2.71s\tremaining: 3.68s\n",
      "424:\tlearn: 146.1965644\ttotal: 2.72s\tremaining: 3.68s\n",
      "425:\tlearn: 146.1713464\ttotal: 2.72s\tremaining: 3.67s\n",
      "426:\tlearn: 146.1272424\ttotal: 2.73s\tremaining: 3.66s\n",
      "427:\tlearn: 146.1059271\ttotal: 2.73s\tremaining: 3.65s\n",
      "428:\tlearn: 146.0807374\ttotal: 2.74s\tremaining: 3.65s\n",
      "429:\tlearn: 146.0581650\ttotal: 2.75s\tremaining: 3.64s\n",
      "430:\tlearn: 146.0317327\ttotal: 2.75s\tremaining: 3.63s\n",
      "431:\tlearn: 146.0068912\ttotal: 2.76s\tremaining: 3.63s\n",
      "432:\tlearn: 145.9872308\ttotal: 2.77s\tremaining: 3.62s\n",
      "433:\tlearn: 145.9743318\ttotal: 2.77s\tremaining: 3.61s\n",
      "434:\tlearn: 145.9604080\ttotal: 2.78s\tremaining: 3.61s\n",
      "435:\tlearn: 145.9395060\ttotal: 2.78s\tremaining: 3.6s\n",
      "436:\tlearn: 145.9249054\ttotal: 2.79s\tremaining: 3.59s\n",
      "437:\tlearn: 145.8712345\ttotal: 2.79s\tremaining: 3.58s\n",
      "438:\tlearn: 145.8362077\ttotal: 2.8s\tremaining: 3.58s\n",
      "439:\tlearn: 145.8163715\ttotal: 2.8s\tremaining: 3.57s\n",
      "440:\tlearn: 145.7809716\ttotal: 2.81s\tremaining: 3.56s\n",
      "441:\tlearn: 145.7642938\ttotal: 2.82s\tremaining: 3.56s\n",
      "442:\tlearn: 145.7435534\ttotal: 2.82s\tremaining: 3.55s\n",
      "443:\tlearn: 145.7180354\ttotal: 2.83s\tremaining: 3.54s\n",
      "444:\tlearn: 145.6711800\ttotal: 2.84s\tremaining: 3.54s\n",
      "445:\tlearn: 145.6368374\ttotal: 2.84s\tremaining: 3.53s\n",
      "446:\tlearn: 145.6055082\ttotal: 2.85s\tremaining: 3.52s\n",
      "447:\tlearn: 145.5927617\ttotal: 2.85s\tremaining: 3.52s\n",
      "448:\tlearn: 145.5716845\ttotal: 2.86s\tremaining: 3.51s\n",
      "449:\tlearn: 145.5403916\ttotal: 2.87s\tremaining: 3.5s\n",
      "450:\tlearn: 145.5034123\ttotal: 2.87s\tremaining: 3.5s\n",
      "451:\tlearn: 145.4668289\ttotal: 2.88s\tremaining: 3.49s\n",
      "452:\tlearn: 145.4342438\ttotal: 2.88s\tremaining: 3.48s\n",
      "453:\tlearn: 145.4106319\ttotal: 2.89s\tremaining: 3.48s\n",
      "454:\tlearn: 145.3788317\ttotal: 2.9s\tremaining: 3.47s\n",
      "455:\tlearn: 145.3355739\ttotal: 2.9s\tremaining: 3.46s\n",
      "456:\tlearn: 145.3218925\ttotal: 2.91s\tremaining: 3.45s\n",
      "457:\tlearn: 145.3045070\ttotal: 2.91s\tremaining: 3.45s\n",
      "458:\tlearn: 145.2770826\ttotal: 2.92s\tremaining: 3.44s\n",
      "459:\tlearn: 145.2598698\ttotal: 2.92s\tremaining: 3.43s\n",
      "460:\tlearn: 145.2448216\ttotal: 2.93s\tremaining: 3.42s\n",
      "461:\tlearn: 145.2231842\ttotal: 2.94s\tremaining: 3.42s\n",
      "462:\tlearn: 145.1942617\ttotal: 2.94s\tremaining: 3.41s\n",
      "463:\tlearn: 145.1682895\ttotal: 2.95s\tremaining: 3.4s\n",
      "464:\tlearn: 145.1582309\ttotal: 2.95s\tremaining: 3.4s\n",
      "465:\tlearn: 145.1394821\ttotal: 2.96s\tremaining: 3.39s\n",
      "466:\tlearn: 145.1084951\ttotal: 2.96s\tremaining: 3.38s\n",
      "467:\tlearn: 145.0776745\ttotal: 2.97s\tremaining: 3.38s\n",
      "468:\tlearn: 145.0423262\ttotal: 2.98s\tremaining: 3.37s\n",
      "469:\tlearn: 144.9931143\ttotal: 2.98s\tremaining: 3.36s\n",
      "470:\tlearn: 144.9770049\ttotal: 2.99s\tremaining: 3.35s\n",
      "471:\tlearn: 144.9633038\ttotal: 2.99s\tremaining: 3.35s\n",
      "472:\tlearn: 144.9425084\ttotal: 3s\tremaining: 3.34s\n",
      "473:\tlearn: 144.9281145\ttotal: 3.01s\tremaining: 3.34s\n",
      "474:\tlearn: 144.9010467\ttotal: 3.02s\tremaining: 3.33s\n",
      "475:\tlearn: 144.8755981\ttotal: 3.02s\tremaining: 3.32s\n",
      "476:\tlearn: 144.8364260\ttotal: 3.02s\tremaining: 3.32s\n",
      "477:\tlearn: 144.8049134\ttotal: 3.03s\tremaining: 3.31s\n",
      "478:\tlearn: 144.7863880\ttotal: 3.04s\tremaining: 3.3s\n",
      "479:\tlearn: 144.7582995\ttotal: 3.04s\tremaining: 3.3s\n",
      "480:\tlearn: 144.7304121\ttotal: 3.05s\tremaining: 3.29s\n",
      "481:\tlearn: 144.6968797\ttotal: 3.06s\tremaining: 3.28s\n",
      "482:\tlearn: 144.6712065\ttotal: 3.06s\tremaining: 3.28s\n",
      "483:\tlearn: 144.6336920\ttotal: 3.07s\tremaining: 3.27s\n",
      "484:\tlearn: 144.5941821\ttotal: 3.07s\tremaining: 3.26s\n",
      "485:\tlearn: 144.5734377\ttotal: 3.08s\tremaining: 3.26s\n",
      "486:\tlearn: 144.5389610\ttotal: 3.08s\tremaining: 3.25s\n",
      "487:\tlearn: 144.5095060\ttotal: 3.09s\tremaining: 3.24s\n",
      "488:\tlearn: 144.4780656\ttotal: 3.1s\tremaining: 3.23s\n",
      "489:\tlearn: 144.4470680\ttotal: 3.1s\tremaining: 3.23s\n",
      "490:\tlearn: 144.4198434\ttotal: 3.11s\tremaining: 3.22s\n",
      "491:\tlearn: 144.3925300\ttotal: 3.11s\tremaining: 3.21s\n",
      "492:\tlearn: 144.3383453\ttotal: 3.12s\tremaining: 3.21s\n",
      "493:\tlearn: 144.3136005\ttotal: 3.13s\tremaining: 3.2s\n",
      "494:\tlearn: 144.2896019\ttotal: 3.13s\tremaining: 3.19s\n",
      "495:\tlearn: 144.2614779\ttotal: 3.14s\tremaining: 3.19s\n",
      "496:\tlearn: 144.2343659\ttotal: 3.14s\tremaining: 3.18s\n",
      "497:\tlearn: 144.2085360\ttotal: 3.15s\tremaining: 3.17s\n",
      "498:\tlearn: 144.1954185\ttotal: 3.15s\tremaining: 3.17s\n",
      "499:\tlearn: 144.1758224\ttotal: 3.16s\tremaining: 3.16s\n",
      "500:\tlearn: 144.1437517\ttotal: 3.17s\tremaining: 3.15s\n",
      "501:\tlearn: 144.1153683\ttotal: 3.17s\tremaining: 3.15s\n",
      "502:\tlearn: 144.1005096\ttotal: 3.18s\tremaining: 3.14s\n",
      "503:\tlearn: 144.0754715\ttotal: 3.19s\tremaining: 3.13s\n",
      "504:\tlearn: 144.0564509\ttotal: 3.19s\tremaining: 3.13s\n",
      "505:\tlearn: 144.0268039\ttotal: 3.2s\tremaining: 3.12s\n",
      "506:\tlearn: 144.0051614\ttotal: 3.2s\tremaining: 3.12s\n",
      "507:\tlearn: 143.9856336\ttotal: 3.21s\tremaining: 3.11s\n",
      "508:\tlearn: 143.9513262\ttotal: 3.21s\tremaining: 3.1s\n",
      "509:\tlearn: 143.9221784\ttotal: 3.22s\tremaining: 3.1s\n",
      "510:\tlearn: 143.8988648\ttotal: 3.23s\tremaining: 3.09s\n",
      "511:\tlearn: 143.8725045\ttotal: 3.23s\tremaining: 3.08s\n",
      "512:\tlearn: 143.8498438\ttotal: 3.24s\tremaining: 3.07s\n",
      "513:\tlearn: 143.8358259\ttotal: 3.24s\tremaining: 3.07s\n",
      "514:\tlearn: 143.8184373\ttotal: 3.25s\tremaining: 3.06s\n",
      "515:\tlearn: 143.7931151\ttotal: 3.25s\tremaining: 3.05s\n",
      "516:\tlearn: 143.7816200\ttotal: 3.26s\tremaining: 3.05s\n",
      "517:\tlearn: 143.7617291\ttotal: 3.27s\tremaining: 3.04s\n",
      "518:\tlearn: 143.7396311\ttotal: 3.27s\tremaining: 3.03s\n",
      "519:\tlearn: 143.7115625\ttotal: 3.28s\tremaining: 3.02s\n",
      "520:\tlearn: 143.6842590\ttotal: 3.28s\tremaining: 3.02s\n",
      "521:\tlearn: 143.6672234\ttotal: 3.29s\tremaining: 3.01s\n",
      "522:\tlearn: 143.6443788\ttotal: 3.29s\tremaining: 3s\n",
      "523:\tlearn: 143.6277684\ttotal: 3.3s\tremaining: 3s\n",
      "524:\tlearn: 143.6020531\ttotal: 3.31s\tremaining: 2.99s\n",
      "525:\tlearn: 143.5418879\ttotal: 3.31s\tremaining: 2.99s\n",
      "526:\tlearn: 143.5314953\ttotal: 3.32s\tremaining: 2.98s\n",
      "527:\tlearn: 143.5126145\ttotal: 3.33s\tremaining: 2.97s\n",
      "528:\tlearn: 143.4958225\ttotal: 3.33s\tremaining: 2.97s\n",
      "529:\tlearn: 143.4703861\ttotal: 3.34s\tremaining: 2.96s\n",
      "530:\tlearn: 143.4132676\ttotal: 3.34s\tremaining: 2.95s\n",
      "531:\tlearn: 143.3977201\ttotal: 3.35s\tremaining: 2.94s\n",
      "532:\tlearn: 143.3863529\ttotal: 3.35s\tremaining: 2.94s\n",
      "533:\tlearn: 143.3628202\ttotal: 3.36s\tremaining: 2.93s\n",
      "534:\tlearn: 143.3415296\ttotal: 3.37s\tremaining: 2.93s\n",
      "535:\tlearn: 143.3187384\ttotal: 3.38s\tremaining: 2.92s\n",
      "536:\tlearn: 143.2894438\ttotal: 3.38s\tremaining: 2.92s\n",
      "537:\tlearn: 143.2663112\ttotal: 3.39s\tremaining: 2.91s\n",
      "538:\tlearn: 143.2432317\ttotal: 3.39s\tremaining: 2.9s\n",
      "539:\tlearn: 143.2264236\ttotal: 3.4s\tremaining: 2.9s\n",
      "540:\tlearn: 143.2007744\ttotal: 3.4s\tremaining: 2.89s\n",
      "541:\tlearn: 143.1762387\ttotal: 3.41s\tremaining: 2.88s\n",
      "542:\tlearn: 143.1569572\ttotal: 3.42s\tremaining: 2.88s\n",
      "543:\tlearn: 143.1388700\ttotal: 3.42s\tremaining: 2.87s\n",
      "544:\tlearn: 143.1247188\ttotal: 3.43s\tremaining: 2.86s\n",
      "545:\tlearn: 143.1105335\ttotal: 3.44s\tremaining: 2.86s\n",
      "546:\tlearn: 143.0789513\ttotal: 3.44s\tremaining: 2.85s\n",
      "547:\tlearn: 143.0417078\ttotal: 3.45s\tremaining: 2.84s\n",
      "548:\tlearn: 143.0128845\ttotal: 3.46s\tremaining: 2.84s\n",
      "549:\tlearn: 142.9953022\ttotal: 3.46s\tremaining: 2.83s\n",
      "550:\tlearn: 142.9802103\ttotal: 3.46s\tremaining: 2.82s\n",
      "551:\tlearn: 142.9611141\ttotal: 3.47s\tremaining: 2.82s\n",
      "552:\tlearn: 142.9339363\ttotal: 3.48s\tremaining: 2.81s\n",
      "553:\tlearn: 142.9220880\ttotal: 3.48s\tremaining: 2.8s\n",
      "554:\tlearn: 142.9046193\ttotal: 3.49s\tremaining: 2.8s\n",
      "555:\tlearn: 142.8721716\ttotal: 3.49s\tremaining: 2.79s\n",
      "556:\tlearn: 142.8432783\ttotal: 3.5s\tremaining: 2.78s\n",
      "557:\tlearn: 142.8228317\ttotal: 3.51s\tremaining: 2.78s\n",
      "558:\tlearn: 142.8009110\ttotal: 3.51s\tremaining: 2.77s\n",
      "559:\tlearn: 142.7724951\ttotal: 3.52s\tremaining: 2.76s\n",
      "560:\tlearn: 142.7596343\ttotal: 3.52s\tremaining: 2.76s\n",
      "561:\tlearn: 142.7474796\ttotal: 3.53s\tremaining: 2.75s\n",
      "562:\tlearn: 142.7248704\ttotal: 3.54s\tremaining: 2.75s\n",
      "563:\tlearn: 142.7040079\ttotal: 3.54s\tremaining: 2.74s\n",
      "564:\tlearn: 142.6900382\ttotal: 3.55s\tremaining: 2.73s\n",
      "565:\tlearn: 142.6702769\ttotal: 3.55s\tremaining: 2.73s\n",
      "566:\tlearn: 142.6498261\ttotal: 3.56s\tremaining: 2.72s\n",
      "567:\tlearn: 142.6197412\ttotal: 3.57s\tremaining: 2.71s\n",
      "568:\tlearn: 142.5912453\ttotal: 3.57s\tremaining: 2.71s\n",
      "569:\tlearn: 142.5724774\ttotal: 3.58s\tremaining: 2.7s\n",
      "570:\tlearn: 142.5376764\ttotal: 3.58s\tremaining: 2.69s\n",
      "571:\tlearn: 142.5183184\ttotal: 3.59s\tremaining: 2.69s\n",
      "572:\tlearn: 142.4676854\ttotal: 3.59s\tremaining: 2.68s\n",
      "573:\tlearn: 142.4419682\ttotal: 3.6s\tremaining: 2.67s\n",
      "574:\tlearn: 142.4112957\ttotal: 3.6s\tremaining: 2.67s\n",
      "575:\tlearn: 142.3839878\ttotal: 3.61s\tremaining: 2.66s\n",
      "576:\tlearn: 142.3642715\ttotal: 3.62s\tremaining: 2.65s\n",
      "577:\tlearn: 142.3523635\ttotal: 3.62s\tremaining: 2.64s\n",
      "578:\tlearn: 142.3446410\ttotal: 3.63s\tremaining: 2.64s\n",
      "579:\tlearn: 142.3331456\ttotal: 3.63s\tremaining: 2.63s\n",
      "580:\tlearn: 142.3095772\ttotal: 3.64s\tremaining: 2.62s\n",
      "581:\tlearn: 142.2616338\ttotal: 3.65s\tremaining: 2.62s\n",
      "582:\tlearn: 142.2363799\ttotal: 3.65s\tremaining: 2.61s\n",
      "583:\tlearn: 142.2085225\ttotal: 3.66s\tremaining: 2.6s\n",
      "584:\tlearn: 142.1953351\ttotal: 3.66s\tremaining: 2.6s\n",
      "585:\tlearn: 142.1705807\ttotal: 3.67s\tremaining: 2.59s\n",
      "586:\tlearn: 142.1252939\ttotal: 3.67s\tremaining: 2.58s\n",
      "587:\tlearn: 142.1055135\ttotal: 3.68s\tremaining: 2.58s\n",
      "588:\tlearn: 142.0880568\ttotal: 3.69s\tremaining: 2.57s\n",
      "589:\tlearn: 142.0725906\ttotal: 3.69s\tremaining: 2.56s\n",
      "590:\tlearn: 142.0457266\ttotal: 3.7s\tremaining: 2.56s\n",
      "591:\tlearn: 142.0287881\ttotal: 3.7s\tremaining: 2.55s\n",
      "592:\tlearn: 142.0038627\ttotal: 3.71s\tremaining: 2.55s\n",
      "593:\tlearn: 141.9789654\ttotal: 3.72s\tremaining: 2.54s\n",
      "594:\tlearn: 141.9623772\ttotal: 3.72s\tremaining: 2.53s\n",
      "595:\tlearn: 141.9467379\ttotal: 3.73s\tremaining: 2.53s\n",
      "596:\tlearn: 141.9263617\ttotal: 3.73s\tremaining: 2.52s\n",
      "597:\tlearn: 141.9044358\ttotal: 3.74s\tremaining: 2.52s\n",
      "598:\tlearn: 141.8773306\ttotal: 3.75s\tremaining: 2.51s\n",
      "599:\tlearn: 141.8623691\ttotal: 3.75s\tremaining: 2.5s\n",
      "600:\tlearn: 141.8453170\ttotal: 3.76s\tremaining: 2.5s\n",
      "601:\tlearn: 141.8242203\ttotal: 3.77s\tremaining: 2.49s\n",
      "602:\tlearn: 141.7924969\ttotal: 3.77s\tremaining: 2.48s\n",
      "603:\tlearn: 141.7770759\ttotal: 3.78s\tremaining: 2.48s\n",
      "604:\tlearn: 141.7512732\ttotal: 3.79s\tremaining: 2.47s\n",
      "605:\tlearn: 141.7391145\ttotal: 3.79s\tremaining: 2.46s\n",
      "606:\tlearn: 141.7147991\ttotal: 3.8s\tremaining: 2.46s\n",
      "607:\tlearn: 141.6960826\ttotal: 3.8s\tremaining: 2.45s\n",
      "608:\tlearn: 141.6816270\ttotal: 3.81s\tremaining: 2.44s\n",
      "609:\tlearn: 141.6527331\ttotal: 3.81s\tremaining: 2.44s\n",
      "610:\tlearn: 141.6293819\ttotal: 3.82s\tremaining: 2.43s\n",
      "611:\tlearn: 141.6088150\ttotal: 3.83s\tremaining: 2.42s\n",
      "612:\tlearn: 141.5946742\ttotal: 3.83s\tremaining: 2.42s\n",
      "613:\tlearn: 141.5824618\ttotal: 3.84s\tremaining: 2.41s\n",
      "614:\tlearn: 141.5589094\ttotal: 3.84s\tremaining: 2.4s\n",
      "615:\tlearn: 141.5359139\ttotal: 3.85s\tremaining: 2.4s\n",
      "616:\tlearn: 141.4936444\ttotal: 3.85s\tremaining: 2.39s\n",
      "617:\tlearn: 141.4790142\ttotal: 3.86s\tremaining: 2.38s\n",
      "618:\tlearn: 141.4615818\ttotal: 3.87s\tremaining: 2.38s\n",
      "619:\tlearn: 141.4479148\ttotal: 3.87s\tremaining: 2.37s\n",
      "620:\tlearn: 141.4313884\ttotal: 3.88s\tremaining: 2.37s\n",
      "621:\tlearn: 141.4087811\ttotal: 3.88s\tremaining: 2.36s\n",
      "622:\tlearn: 141.3830833\ttotal: 3.89s\tremaining: 2.35s\n",
      "623:\tlearn: 141.3356675\ttotal: 3.9s\tremaining: 2.35s\n",
      "624:\tlearn: 141.2954706\ttotal: 3.9s\tremaining: 2.34s\n",
      "625:\tlearn: 141.2673961\ttotal: 3.91s\tremaining: 2.34s\n",
      "626:\tlearn: 141.2290696\ttotal: 3.92s\tremaining: 2.33s\n",
      "627:\tlearn: 141.2082181\ttotal: 3.92s\tremaining: 2.32s\n",
      "628:\tlearn: 141.1771548\ttotal: 3.93s\tremaining: 2.32s\n",
      "629:\tlearn: 141.1572207\ttotal: 3.93s\tremaining: 2.31s\n",
      "630:\tlearn: 141.1327295\ttotal: 3.94s\tremaining: 2.3s\n",
      "631:\tlearn: 141.1129764\ttotal: 3.94s\tremaining: 2.3s\n",
      "632:\tlearn: 141.0957456\ttotal: 3.95s\tremaining: 2.29s\n",
      "633:\tlearn: 141.0784412\ttotal: 3.96s\tremaining: 2.28s\n",
      "634:\tlearn: 141.0594645\ttotal: 3.96s\tremaining: 2.28s\n",
      "635:\tlearn: 141.0454885\ttotal: 3.97s\tremaining: 2.27s\n",
      "636:\tlearn: 141.0221576\ttotal: 3.97s\tremaining: 2.26s\n",
      "637:\tlearn: 141.0110794\ttotal: 3.98s\tremaining: 2.26s\n",
      "638:\tlearn: 141.0001088\ttotal: 3.98s\tremaining: 2.25s\n",
      "639:\tlearn: 140.9770744\ttotal: 3.99s\tremaining: 2.24s\n",
      "640:\tlearn: 140.9619984\ttotal: 4s\tremaining: 2.24s\n",
      "641:\tlearn: 140.9471284\ttotal: 4s\tremaining: 2.23s\n",
      "642:\tlearn: 140.9353660\ttotal: 4.01s\tremaining: 2.23s\n",
      "643:\tlearn: 140.9186453\ttotal: 4.01s\tremaining: 2.22s\n",
      "644:\tlearn: 140.8748821\ttotal: 4.02s\tremaining: 2.21s\n",
      "645:\tlearn: 140.8448824\ttotal: 4.03s\tremaining: 2.21s\n",
      "646:\tlearn: 140.8310156\ttotal: 4.03s\tremaining: 2.2s\n",
      "647:\tlearn: 140.8091500\ttotal: 4.04s\tremaining: 2.19s\n",
      "648:\tlearn: 140.7811056\ttotal: 4.04s\tremaining: 2.19s\n",
      "649:\tlearn: 140.7618797\ttotal: 4.05s\tremaining: 2.18s\n",
      "650:\tlearn: 140.7339797\ttotal: 4.05s\tremaining: 2.17s\n",
      "651:\tlearn: 140.7170467\ttotal: 4.06s\tremaining: 2.17s\n",
      "652:\tlearn: 140.6976658\ttotal: 4.07s\tremaining: 2.16s\n",
      "653:\tlearn: 140.6877530\ttotal: 4.07s\tremaining: 2.15s\n",
      "654:\tlearn: 140.6644067\ttotal: 4.08s\tremaining: 2.15s\n",
      "655:\tlearn: 140.6459786\ttotal: 4.08s\tremaining: 2.14s\n",
      "656:\tlearn: 140.6323888\ttotal: 4.09s\tremaining: 2.13s\n",
      "657:\tlearn: 140.5967096\ttotal: 4.1s\tremaining: 2.13s\n",
      "658:\tlearn: 140.5753750\ttotal: 4.1s\tremaining: 2.12s\n",
      "659:\tlearn: 140.5537611\ttotal: 4.11s\tremaining: 2.12s\n",
      "660:\tlearn: 140.5197644\ttotal: 4.12s\tremaining: 2.11s\n",
      "661:\tlearn: 140.5066567\ttotal: 4.12s\tremaining: 2.1s\n",
      "662:\tlearn: 140.4886626\ttotal: 4.13s\tremaining: 2.1s\n",
      "663:\tlearn: 140.4779589\ttotal: 4.13s\tremaining: 2.09s\n",
      "664:\tlearn: 140.4415998\ttotal: 4.14s\tremaining: 2.08s\n",
      "665:\tlearn: 140.4012654\ttotal: 4.15s\tremaining: 2.08s\n",
      "666:\tlearn: 140.3673101\ttotal: 4.15s\tremaining: 2.07s\n",
      "667:\tlearn: 140.3498333\ttotal: 4.16s\tremaining: 2.07s\n",
      "668:\tlearn: 140.3330248\ttotal: 4.16s\tremaining: 2.06s\n",
      "669:\tlearn: 140.3176156\ttotal: 4.17s\tremaining: 2.05s\n",
      "670:\tlearn: 140.3056853\ttotal: 4.17s\tremaining: 2.05s\n",
      "671:\tlearn: 140.2950203\ttotal: 4.18s\tremaining: 2.04s\n",
      "672:\tlearn: 140.2822636\ttotal: 4.19s\tremaining: 2.03s\n",
      "673:\tlearn: 140.2609537\ttotal: 4.19s\tremaining: 2.03s\n",
      "674:\tlearn: 140.2365704\ttotal: 4.2s\tremaining: 2.02s\n",
      "675:\tlearn: 140.2174850\ttotal: 4.2s\tremaining: 2.01s\n",
      "676:\tlearn: 140.1902569\ttotal: 4.21s\tremaining: 2.01s\n",
      "677:\tlearn: 140.1762633\ttotal: 4.21s\tremaining: 2s\n",
      "678:\tlearn: 140.1439549\ttotal: 4.22s\tremaining: 2s\n",
      "679:\tlearn: 140.1150896\ttotal: 4.23s\tremaining: 1.99s\n",
      "680:\tlearn: 140.1025008\ttotal: 4.23s\tremaining: 1.98s\n",
      "681:\tlearn: 140.0815191\ttotal: 4.24s\tremaining: 1.98s\n",
      "682:\tlearn: 140.0504650\ttotal: 4.25s\tremaining: 1.97s\n",
      "683:\tlearn: 140.0359919\ttotal: 4.25s\tremaining: 1.96s\n",
      "684:\tlearn: 140.0200439\ttotal: 4.26s\tremaining: 1.96s\n",
      "685:\tlearn: 140.0103727\ttotal: 4.26s\tremaining: 1.95s\n",
      "686:\tlearn: 139.9927115\ttotal: 4.27s\tremaining: 1.95s\n",
      "687:\tlearn: 139.9823498\ttotal: 4.28s\tremaining: 1.94s\n",
      "688:\tlearn: 139.9566845\ttotal: 4.28s\tremaining: 1.93s\n",
      "689:\tlearn: 139.9385844\ttotal: 4.29s\tremaining: 1.93s\n",
      "690:\tlearn: 139.9183276\ttotal: 4.29s\tremaining: 1.92s\n",
      "691:\tlearn: 139.9106019\ttotal: 4.3s\tremaining: 1.91s\n",
      "692:\tlearn: 139.8985760\ttotal: 4.31s\tremaining: 1.91s\n",
      "693:\tlearn: 139.8856743\ttotal: 4.31s\tremaining: 1.9s\n",
      "694:\tlearn: 139.8694131\ttotal: 4.32s\tremaining: 1.89s\n",
      "695:\tlearn: 139.8596674\ttotal: 4.32s\tremaining: 1.89s\n",
      "696:\tlearn: 139.8505315\ttotal: 4.33s\tremaining: 1.88s\n",
      "697:\tlearn: 139.8322923\ttotal: 4.33s\tremaining: 1.88s\n",
      "698:\tlearn: 139.8134114\ttotal: 4.34s\tremaining: 1.87s\n",
      "699:\tlearn: 139.7991292\ttotal: 4.34s\tremaining: 1.86s\n",
      "700:\tlearn: 139.7909800\ttotal: 4.35s\tremaining: 1.86s\n",
      "701:\tlearn: 139.7742894\ttotal: 4.36s\tremaining: 1.85s\n",
      "702:\tlearn: 139.7541735\ttotal: 4.36s\tremaining: 1.84s\n",
      "703:\tlearn: 139.7390393\ttotal: 4.37s\tremaining: 1.84s\n",
      "704:\tlearn: 139.7229423\ttotal: 4.38s\tremaining: 1.83s\n",
      "705:\tlearn: 139.7070084\ttotal: 4.38s\tremaining: 1.82s\n",
      "706:\tlearn: 139.6913357\ttotal: 4.39s\tremaining: 1.82s\n",
      "707:\tlearn: 139.6802101\ttotal: 4.39s\tremaining: 1.81s\n",
      "708:\tlearn: 139.6552620\ttotal: 4.4s\tremaining: 1.81s\n",
      "709:\tlearn: 139.6346609\ttotal: 4.41s\tremaining: 1.8s\n",
      "710:\tlearn: 139.6176209\ttotal: 4.41s\tremaining: 1.79s\n",
      "711:\tlearn: 139.5918557\ttotal: 4.42s\tremaining: 1.79s\n",
      "712:\tlearn: 139.5829016\ttotal: 4.42s\tremaining: 1.78s\n",
      "713:\tlearn: 139.5675933\ttotal: 4.43s\tremaining: 1.77s\n",
      "714:\tlearn: 139.5558952\ttotal: 4.44s\tremaining: 1.77s\n",
      "715:\tlearn: 139.5404761\ttotal: 4.44s\tremaining: 1.76s\n",
      "716:\tlearn: 139.5273700\ttotal: 4.45s\tremaining: 1.76s\n",
      "717:\tlearn: 139.5118385\ttotal: 4.45s\tremaining: 1.75s\n",
      "718:\tlearn: 139.5056175\ttotal: 4.46s\tremaining: 1.74s\n",
      "719:\tlearn: 139.4847311\ttotal: 4.46s\tremaining: 1.74s\n",
      "720:\tlearn: 139.4653185\ttotal: 4.47s\tremaining: 1.73s\n",
      "721:\tlearn: 139.4538376\ttotal: 4.48s\tremaining: 1.73s\n",
      "722:\tlearn: 139.4428827\ttotal: 4.49s\tremaining: 1.72s\n",
      "723:\tlearn: 139.4339384\ttotal: 4.49s\tremaining: 1.71s\n",
      "724:\tlearn: 139.4186649\ttotal: 4.5s\tremaining: 1.71s\n",
      "725:\tlearn: 139.3974320\ttotal: 4.5s\tremaining: 1.7s\n",
      "726:\tlearn: 139.3865175\ttotal: 4.51s\tremaining: 1.69s\n",
      "727:\tlearn: 139.3684186\ttotal: 4.52s\tremaining: 1.69s\n",
      "728:\tlearn: 139.3518737\ttotal: 4.52s\tremaining: 1.68s\n",
      "729:\tlearn: 139.3397242\ttotal: 4.53s\tremaining: 1.67s\n",
      "730:\tlearn: 139.3295583\ttotal: 4.53s\tremaining: 1.67s\n",
      "731:\tlearn: 139.3166829\ttotal: 4.54s\tremaining: 1.66s\n",
      "732:\tlearn: 139.2947988\ttotal: 4.54s\tremaining: 1.66s\n",
      "733:\tlearn: 139.2773783\ttotal: 4.55s\tremaining: 1.65s\n",
      "734:\tlearn: 139.2590688\ttotal: 4.56s\tremaining: 1.64s\n",
      "735:\tlearn: 139.2500943\ttotal: 4.56s\tremaining: 1.64s\n",
      "736:\tlearn: 139.2335692\ttotal: 4.57s\tremaining: 1.63s\n",
      "737:\tlearn: 139.2104814\ttotal: 4.57s\tremaining: 1.62s\n",
      "738:\tlearn: 139.1939973\ttotal: 4.58s\tremaining: 1.62s\n",
      "739:\tlearn: 139.1809530\ttotal: 4.58s\tremaining: 1.61s\n",
      "740:\tlearn: 139.1558805\ttotal: 4.59s\tremaining: 1.6s\n",
      "741:\tlearn: 139.1362609\ttotal: 4.6s\tremaining: 1.6s\n",
      "742:\tlearn: 139.1220547\ttotal: 4.6s\tremaining: 1.59s\n",
      "743:\tlearn: 139.1066918\ttotal: 4.61s\tremaining: 1.58s\n",
      "744:\tlearn: 139.0860489\ttotal: 4.61s\tremaining: 1.58s\n",
      "745:\tlearn: 139.0736197\ttotal: 4.62s\tremaining: 1.57s\n",
      "746:\tlearn: 139.0412378\ttotal: 4.63s\tremaining: 1.57s\n",
      "747:\tlearn: 139.0282166\ttotal: 4.63s\tremaining: 1.56s\n",
      "748:\tlearn: 139.0165620\ttotal: 4.64s\tremaining: 1.55s\n",
      "749:\tlearn: 139.0055975\ttotal: 4.64s\tremaining: 1.55s\n",
      "750:\tlearn: 138.9767474\ttotal: 4.65s\tremaining: 1.54s\n",
      "751:\tlearn: 138.9662345\ttotal: 4.66s\tremaining: 1.53s\n",
      "752:\tlearn: 138.9495484\ttotal: 4.66s\tremaining: 1.53s\n",
      "753:\tlearn: 138.9259305\ttotal: 4.67s\tremaining: 1.52s\n",
      "754:\tlearn: 138.9018595\ttotal: 4.67s\tremaining: 1.52s\n",
      "755:\tlearn: 138.8813722\ttotal: 4.68s\tremaining: 1.51s\n",
      "756:\tlearn: 138.8648669\ttotal: 4.68s\tremaining: 1.5s\n",
      "757:\tlearn: 138.8469595\ttotal: 4.69s\tremaining: 1.5s\n",
      "758:\tlearn: 138.8354161\ttotal: 4.7s\tremaining: 1.49s\n",
      "759:\tlearn: 138.8210252\ttotal: 4.7s\tremaining: 1.48s\n",
      "760:\tlearn: 138.8134694\ttotal: 4.71s\tremaining: 1.48s\n",
      "761:\tlearn: 138.7983166\ttotal: 4.71s\tremaining: 1.47s\n",
      "762:\tlearn: 138.7846001\ttotal: 4.72s\tremaining: 1.47s\n",
      "763:\tlearn: 138.7577516\ttotal: 4.72s\tremaining: 1.46s\n",
      "764:\tlearn: 138.7340667\ttotal: 4.73s\tremaining: 1.45s\n",
      "765:\tlearn: 138.7132453\ttotal: 4.74s\tremaining: 1.45s\n",
      "766:\tlearn: 138.6991078\ttotal: 4.74s\tremaining: 1.44s\n",
      "767:\tlearn: 138.6859692\ttotal: 4.75s\tremaining: 1.43s\n",
      "768:\tlearn: 138.6651880\ttotal: 4.75s\tremaining: 1.43s\n",
      "769:\tlearn: 138.6298115\ttotal: 4.76s\tremaining: 1.42s\n",
      "770:\tlearn: 138.6193355\ttotal: 4.77s\tremaining: 1.42s\n",
      "771:\tlearn: 138.6050087\ttotal: 4.78s\tremaining: 1.41s\n",
      "772:\tlearn: 138.5950116\ttotal: 4.78s\tremaining: 1.4s\n",
      "773:\tlearn: 138.5839250\ttotal: 4.79s\tremaining: 1.4s\n",
      "774:\tlearn: 138.5572909\ttotal: 4.79s\tremaining: 1.39s\n",
      "775:\tlearn: 138.5501960\ttotal: 4.8s\tremaining: 1.39s\n",
      "776:\tlearn: 138.5165706\ttotal: 4.81s\tremaining: 1.38s\n",
      "777:\tlearn: 138.5041217\ttotal: 4.81s\tremaining: 1.37s\n",
      "778:\tlearn: 138.4900398\ttotal: 4.82s\tremaining: 1.37s\n",
      "779:\tlearn: 138.4780554\ttotal: 4.82s\tremaining: 1.36s\n",
      "780:\tlearn: 138.4587422\ttotal: 4.83s\tremaining: 1.35s\n",
      "781:\tlearn: 138.4323971\ttotal: 4.83s\tremaining: 1.35s\n",
      "782:\tlearn: 138.4193086\ttotal: 4.84s\tremaining: 1.34s\n",
      "783:\tlearn: 138.4082841\ttotal: 4.84s\tremaining: 1.33s\n",
      "784:\tlearn: 138.4019438\ttotal: 4.85s\tremaining: 1.33s\n",
      "785:\tlearn: 138.3898672\ttotal: 4.86s\tremaining: 1.32s\n",
      "786:\tlearn: 138.3810382\ttotal: 4.86s\tremaining: 1.31s\n",
      "787:\tlearn: 138.3653312\ttotal: 4.87s\tremaining: 1.31s\n",
      "788:\tlearn: 138.3503690\ttotal: 4.87s\tremaining: 1.3s\n",
      "789:\tlearn: 138.3401982\ttotal: 4.88s\tremaining: 1.3s\n",
      "790:\tlearn: 138.3218865\ttotal: 4.89s\tremaining: 1.29s\n",
      "791:\tlearn: 138.3118800\ttotal: 4.89s\tremaining: 1.28s\n",
      "792:\tlearn: 138.2948944\ttotal: 4.9s\tremaining: 1.28s\n",
      "793:\tlearn: 138.2771432\ttotal: 4.9s\tremaining: 1.27s\n",
      "794:\tlearn: 138.2686847\ttotal: 4.91s\tremaining: 1.27s\n",
      "795:\tlearn: 138.2551240\ttotal: 4.92s\tremaining: 1.26s\n",
      "796:\tlearn: 138.2216044\ttotal: 4.92s\tremaining: 1.25s\n",
      "797:\tlearn: 138.2034816\ttotal: 4.93s\tremaining: 1.25s\n",
      "798:\tlearn: 138.1830036\ttotal: 4.94s\tremaining: 1.24s\n",
      "799:\tlearn: 138.1754277\ttotal: 4.95s\tremaining: 1.24s\n",
      "800:\tlearn: 138.1650849\ttotal: 4.95s\tremaining: 1.23s\n",
      "801:\tlearn: 138.1422132\ttotal: 4.97s\tremaining: 1.23s\n",
      "802:\tlearn: 138.1231242\ttotal: 5s\tremaining: 1.23s\n",
      "803:\tlearn: 138.1089472\ttotal: 5.01s\tremaining: 1.22s\n",
      "804:\tlearn: 138.0862613\ttotal: 5.04s\tremaining: 1.22s\n",
      "805:\tlearn: 138.0693251\ttotal: 5.05s\tremaining: 1.22s\n",
      "806:\tlearn: 138.0429296\ttotal: 5.06s\tremaining: 1.21s\n",
      "807:\tlearn: 138.0270963\ttotal: 5.1s\tremaining: 1.21s\n",
      "808:\tlearn: 138.0197997\ttotal: 5.11s\tremaining: 1.21s\n",
      "809:\tlearn: 138.0045668\ttotal: 5.12s\tremaining: 1.2s\n",
      "810:\tlearn: 137.9940199\ttotal: 5.15s\tremaining: 1.2s\n",
      "811:\tlearn: 137.9769760\ttotal: 5.17s\tremaining: 1.2s\n",
      "812:\tlearn: 137.9662193\ttotal: 5.18s\tremaining: 1.19s\n",
      "813:\tlearn: 137.9569832\ttotal: 5.2s\tremaining: 1.19s\n",
      "814:\tlearn: 137.9489312\ttotal: 5.2s\tremaining: 1.18s\n",
      "815:\tlearn: 137.9361297\ttotal: 5.21s\tremaining: 1.18s\n",
      "816:\tlearn: 137.9159094\ttotal: 5.23s\tremaining: 1.17s\n",
      "817:\tlearn: 137.8986340\ttotal: 5.24s\tremaining: 1.17s\n",
      "818:\tlearn: 137.8762114\ttotal: 5.25s\tremaining: 1.16s\n",
      "819:\tlearn: 137.8622630\ttotal: 5.26s\tremaining: 1.16s\n",
      "820:\tlearn: 137.8512086\ttotal: 5.28s\tremaining: 1.15s\n",
      "821:\tlearn: 137.8379181\ttotal: 5.29s\tremaining: 1.15s\n",
      "822:\tlearn: 137.8299351\ttotal: 5.29s\tremaining: 1.14s\n",
      "823:\tlearn: 137.8034013\ttotal: 5.3s\tremaining: 1.13s\n",
      "824:\tlearn: 137.7883179\ttotal: 5.31s\tremaining: 1.13s\n",
      "825:\tlearn: 137.7731184\ttotal: 5.31s\tremaining: 1.12s\n",
      "826:\tlearn: 137.7606588\ttotal: 5.32s\tremaining: 1.11s\n",
      "827:\tlearn: 137.7358886\ttotal: 5.32s\tremaining: 1.11s\n",
      "828:\tlearn: 137.7253725\ttotal: 5.33s\tremaining: 1.1s\n",
      "829:\tlearn: 137.7120704\ttotal: 5.34s\tremaining: 1.09s\n",
      "830:\tlearn: 137.6936957\ttotal: 5.34s\tremaining: 1.09s\n",
      "831:\tlearn: 137.6796367\ttotal: 5.35s\tremaining: 1.08s\n",
      "832:\tlearn: 137.6653123\ttotal: 5.35s\tremaining: 1.07s\n",
      "833:\tlearn: 137.6545259\ttotal: 5.36s\tremaining: 1.07s\n",
      "834:\tlearn: 137.6430086\ttotal: 5.36s\tremaining: 1.06s\n",
      "835:\tlearn: 137.6313419\ttotal: 5.37s\tremaining: 1.05s\n",
      "836:\tlearn: 137.6197850\ttotal: 5.38s\tremaining: 1.05s\n",
      "837:\tlearn: 137.6043274\ttotal: 5.38s\tremaining: 1.04s\n",
      "838:\tlearn: 137.5886296\ttotal: 5.39s\tremaining: 1.03s\n",
      "839:\tlearn: 137.5680094\ttotal: 5.39s\tremaining: 1.03s\n",
      "840:\tlearn: 137.5578579\ttotal: 5.4s\tremaining: 1.02s\n",
      "841:\tlearn: 137.5357947\ttotal: 5.41s\tremaining: 1.01s\n",
      "842:\tlearn: 137.5047568\ttotal: 5.41s\tremaining: 1.01s\n",
      "843:\tlearn: 137.4992313\ttotal: 5.42s\tremaining: 1s\n",
      "844:\tlearn: 137.4875182\ttotal: 5.42s\tremaining: 995ms\n",
      "845:\tlearn: 137.4674281\ttotal: 5.43s\tremaining: 988ms\n",
      "846:\tlearn: 137.4557882\ttotal: 5.43s\tremaining: 982ms\n",
      "847:\tlearn: 137.4454303\ttotal: 5.44s\tremaining: 975ms\n",
      "848:\tlearn: 137.4275732\ttotal: 5.45s\tremaining: 969ms\n",
      "849:\tlearn: 137.4116423\ttotal: 5.45s\tremaining: 962ms\n",
      "850:\tlearn: 137.4007673\ttotal: 5.46s\tremaining: 956ms\n",
      "851:\tlearn: 137.3850102\ttotal: 5.46s\tremaining: 949ms\n",
      "852:\tlearn: 137.3537460\ttotal: 5.47s\tremaining: 943ms\n",
      "853:\tlearn: 137.3395793\ttotal: 5.48s\tremaining: 936ms\n",
      "854:\tlearn: 137.3124687\ttotal: 5.48s\tremaining: 930ms\n",
      "855:\tlearn: 137.3029426\ttotal: 5.49s\tremaining: 923ms\n",
      "856:\tlearn: 137.2916978\ttotal: 5.49s\tremaining: 917ms\n",
      "857:\tlearn: 137.2711001\ttotal: 5.5s\tremaining: 910ms\n",
      "858:\tlearn: 137.2523075\ttotal: 5.5s\tremaining: 904ms\n",
      "859:\tlearn: 137.2377944\ttotal: 5.51s\tremaining: 897ms\n",
      "860:\tlearn: 137.2294899\ttotal: 5.52s\tremaining: 891ms\n",
      "861:\tlearn: 137.2178336\ttotal: 5.52s\tremaining: 884ms\n",
      "862:\tlearn: 137.2080376\ttotal: 5.53s\tremaining: 878ms\n",
      "863:\tlearn: 137.1946237\ttotal: 5.53s\tremaining: 871ms\n",
      "864:\tlearn: 137.1779558\ttotal: 5.54s\tremaining: 865ms\n",
      "865:\tlearn: 137.1650173\ttotal: 5.54s\tremaining: 858ms\n",
      "866:\tlearn: 137.1567989\ttotal: 5.55s\tremaining: 852ms\n",
      "867:\tlearn: 137.1330060\ttotal: 5.56s\tremaining: 845ms\n",
      "868:\tlearn: 137.1246598\ttotal: 5.56s\tremaining: 838ms\n",
      "869:\tlearn: 137.1097859\ttotal: 5.57s\tremaining: 832ms\n",
      "870:\tlearn: 137.1020787\ttotal: 5.57s\tremaining: 825ms\n",
      "871:\tlearn: 137.0808865\ttotal: 5.58s\tremaining: 819ms\n",
      "872:\tlearn: 137.0704544\ttotal: 5.58s\tremaining: 812ms\n",
      "873:\tlearn: 137.0518749\ttotal: 5.59s\tremaining: 806ms\n",
      "874:\tlearn: 137.0378862\ttotal: 5.59s\tremaining: 799ms\n",
      "875:\tlearn: 137.0237611\ttotal: 5.6s\tremaining: 793ms\n",
      "876:\tlearn: 137.0049564\ttotal: 5.61s\tremaining: 787ms\n",
      "877:\tlearn: 136.9810226\ttotal: 5.61s\tremaining: 780ms\n",
      "878:\tlearn: 136.9666989\ttotal: 5.62s\tremaining: 774ms\n",
      "879:\tlearn: 136.9556074\ttotal: 5.62s\tremaining: 767ms\n",
      "880:\tlearn: 136.9385168\ttotal: 5.63s\tremaining: 761ms\n",
      "881:\tlearn: 136.9236821\ttotal: 5.64s\tremaining: 755ms\n",
      "882:\tlearn: 136.9134876\ttotal: 5.64s\tremaining: 748ms\n",
      "883:\tlearn: 136.9023022\ttotal: 5.65s\tremaining: 742ms\n",
      "884:\tlearn: 136.8822822\ttotal: 5.66s\tremaining: 735ms\n",
      "885:\tlearn: 136.8735348\ttotal: 5.67s\tremaining: 729ms\n",
      "886:\tlearn: 136.8573263\ttotal: 5.67s\tremaining: 722ms\n",
      "887:\tlearn: 136.8426947\ttotal: 5.68s\tremaining: 716ms\n",
      "888:\tlearn: 136.8246907\ttotal: 5.68s\tremaining: 709ms\n",
      "889:\tlearn: 136.8094694\ttotal: 5.69s\tremaining: 703ms\n",
      "890:\tlearn: 136.7975206\ttotal: 5.69s\tremaining: 696ms\n",
      "891:\tlearn: 136.7781538\ttotal: 5.7s\tremaining: 690ms\n",
      "892:\tlearn: 136.7550209\ttotal: 5.7s\tremaining: 683ms\n",
      "893:\tlearn: 136.7412021\ttotal: 5.71s\tremaining: 677ms\n",
      "894:\tlearn: 136.7277543\ttotal: 5.71s\tremaining: 671ms\n",
      "895:\tlearn: 136.7111499\ttotal: 5.72s\tremaining: 664ms\n",
      "896:\tlearn: 136.7014248\ttotal: 5.73s\tremaining: 658ms\n",
      "897:\tlearn: 136.6876627\ttotal: 5.73s\tremaining: 651ms\n",
      "898:\tlearn: 136.6799083\ttotal: 5.74s\tremaining: 645ms\n",
      "899:\tlearn: 136.6616536\ttotal: 5.74s\tremaining: 638ms\n",
      "900:\tlearn: 136.6472826\ttotal: 5.75s\tremaining: 632ms\n",
      "901:\tlearn: 136.6324932\ttotal: 5.75s\tremaining: 625ms\n",
      "902:\tlearn: 136.6163841\ttotal: 5.76s\tremaining: 619ms\n",
      "903:\tlearn: 136.5996734\ttotal: 5.77s\tremaining: 612ms\n",
      "904:\tlearn: 136.5890955\ttotal: 5.77s\tremaining: 606ms\n",
      "905:\tlearn: 136.5693164\ttotal: 5.78s\tremaining: 600ms\n",
      "906:\tlearn: 136.5580960\ttotal: 5.78s\tremaining: 593ms\n",
      "907:\tlearn: 136.5403241\ttotal: 5.79s\tremaining: 587ms\n",
      "908:\tlearn: 136.5318269\ttotal: 5.79s\tremaining: 580ms\n",
      "909:\tlearn: 136.5187496\ttotal: 5.8s\tremaining: 574ms\n",
      "910:\tlearn: 136.5080110\ttotal: 5.81s\tremaining: 567ms\n",
      "911:\tlearn: 136.4930304\ttotal: 5.81s\tremaining: 561ms\n",
      "912:\tlearn: 136.4749884\ttotal: 5.82s\tremaining: 555ms\n",
      "913:\tlearn: 136.4625724\ttotal: 5.83s\tremaining: 548ms\n",
      "914:\tlearn: 136.4528028\ttotal: 5.83s\tremaining: 542ms\n",
      "915:\tlearn: 136.4385764\ttotal: 5.84s\tremaining: 535ms\n",
      "916:\tlearn: 136.4182883\ttotal: 5.84s\tremaining: 529ms\n",
      "917:\tlearn: 136.4080906\ttotal: 5.85s\tremaining: 523ms\n",
      "918:\tlearn: 136.3980750\ttotal: 5.86s\tremaining: 516ms\n",
      "919:\tlearn: 136.3801412\ttotal: 5.86s\tremaining: 510ms\n",
      "920:\tlearn: 136.3691471\ttotal: 5.87s\tremaining: 503ms\n",
      "921:\tlearn: 136.3588784\ttotal: 5.87s\tremaining: 497ms\n",
      "922:\tlearn: 136.3384599\ttotal: 5.88s\tremaining: 490ms\n",
      "923:\tlearn: 136.3250719\ttotal: 5.88s\tremaining: 484ms\n",
      "924:\tlearn: 136.3114317\ttotal: 5.89s\tremaining: 477ms\n",
      "925:\tlearn: 136.2982451\ttotal: 5.89s\tremaining: 471ms\n",
      "926:\tlearn: 136.2873630\ttotal: 5.9s\tremaining: 465ms\n",
      "927:\tlearn: 136.2728773\ttotal: 5.91s\tremaining: 458ms\n",
      "928:\tlearn: 136.2561770\ttotal: 5.91s\tremaining: 452ms\n",
      "929:\tlearn: 136.2271480\ttotal: 5.92s\tremaining: 445ms\n",
      "930:\tlearn: 136.2150210\ttotal: 5.92s\tremaining: 439ms\n",
      "931:\tlearn: 136.1972346\ttotal: 5.93s\tremaining: 433ms\n",
      "932:\tlearn: 136.1802683\ttotal: 5.94s\tremaining: 426ms\n",
      "933:\tlearn: 136.1653536\ttotal: 5.94s\tremaining: 420ms\n",
      "934:\tlearn: 136.1426655\ttotal: 5.95s\tremaining: 413ms\n",
      "935:\tlearn: 136.1277799\ttotal: 5.95s\tremaining: 407ms\n",
      "936:\tlearn: 136.1122577\ttotal: 5.96s\tremaining: 401ms\n",
      "937:\tlearn: 136.0990676\ttotal: 5.96s\tremaining: 394ms\n",
      "938:\tlearn: 136.0919564\ttotal: 5.97s\tremaining: 388ms\n",
      "939:\tlearn: 136.0817874\ttotal: 5.98s\tremaining: 381ms\n",
      "940:\tlearn: 136.0680802\ttotal: 5.98s\tremaining: 375ms\n",
      "941:\tlearn: 136.0484031\ttotal: 5.99s\tremaining: 369ms\n",
      "942:\tlearn: 136.0348303\ttotal: 6s\tremaining: 362ms\n",
      "943:\tlearn: 136.0136405\ttotal: 6s\tremaining: 356ms\n",
      "944:\tlearn: 135.9993625\ttotal: 6.01s\tremaining: 350ms\n",
      "945:\tlearn: 135.9931179\ttotal: 6.01s\tremaining: 343ms\n",
      "946:\tlearn: 135.9721985\ttotal: 6.02s\tremaining: 337ms\n",
      "947:\tlearn: 135.9615168\ttotal: 6.03s\tremaining: 331ms\n",
      "948:\tlearn: 135.9509260\ttotal: 6.03s\tremaining: 324ms\n",
      "949:\tlearn: 135.9359820\ttotal: 6.04s\tremaining: 318ms\n",
      "950:\tlearn: 135.9209574\ttotal: 6.04s\tremaining: 311ms\n",
      "951:\tlearn: 135.9068088\ttotal: 6.05s\tremaining: 305ms\n",
      "952:\tlearn: 135.8966639\ttotal: 6.06s\tremaining: 299ms\n",
      "953:\tlearn: 135.8884369\ttotal: 6.06s\tremaining: 292ms\n",
      "954:\tlearn: 135.8671149\ttotal: 6.07s\tremaining: 286ms\n",
      "955:\tlearn: 135.8539280\ttotal: 6.07s\tremaining: 280ms\n",
      "956:\tlearn: 135.8369350\ttotal: 6.08s\tremaining: 273ms\n",
      "957:\tlearn: 135.8231867\ttotal: 6.08s\tremaining: 267ms\n",
      "958:\tlearn: 135.8081957\ttotal: 6.09s\tremaining: 260ms\n",
      "959:\tlearn: 135.7934300\ttotal: 6.1s\tremaining: 254ms\n",
      "960:\tlearn: 135.7729111\ttotal: 6.1s\tremaining: 248ms\n",
      "961:\tlearn: 135.7606610\ttotal: 6.11s\tremaining: 241ms\n",
      "962:\tlearn: 135.7491085\ttotal: 6.11s\tremaining: 235ms\n",
      "963:\tlearn: 135.7371886\ttotal: 6.12s\tremaining: 229ms\n",
      "964:\tlearn: 135.7302208\ttotal: 6.13s\tremaining: 222ms\n",
      "965:\tlearn: 135.7192928\ttotal: 6.13s\tremaining: 216ms\n",
      "966:\tlearn: 135.7048665\ttotal: 6.14s\tremaining: 209ms\n",
      "967:\tlearn: 135.6954225\ttotal: 6.14s\tremaining: 203ms\n",
      "968:\tlearn: 135.6859052\ttotal: 6.15s\tremaining: 197ms\n",
      "969:\tlearn: 135.6692710\ttotal: 6.15s\tremaining: 190ms\n",
      "970:\tlearn: 135.6620389\ttotal: 6.16s\tremaining: 184ms\n",
      "971:\tlearn: 135.6561161\ttotal: 6.17s\tremaining: 178ms\n",
      "972:\tlearn: 135.6443568\ttotal: 6.17s\tremaining: 171ms\n",
      "973:\tlearn: 135.6252426\ttotal: 6.18s\tremaining: 165ms\n",
      "974:\tlearn: 135.6137223\ttotal: 6.19s\tremaining: 159ms\n",
      "975:\tlearn: 135.6015732\ttotal: 6.19s\tremaining: 152ms\n",
      "976:\tlearn: 135.5904965\ttotal: 6.2s\tremaining: 146ms\n",
      "977:\tlearn: 135.5761232\ttotal: 6.2s\tremaining: 140ms\n",
      "978:\tlearn: 135.5477707\ttotal: 6.21s\tremaining: 133ms\n",
      "979:\tlearn: 135.5361029\ttotal: 6.22s\tremaining: 127ms\n",
      "980:\tlearn: 135.5287062\ttotal: 6.22s\tremaining: 121ms\n",
      "981:\tlearn: 135.5120918\ttotal: 6.23s\tremaining: 114ms\n",
      "982:\tlearn: 135.4955463\ttotal: 6.24s\tremaining: 108ms\n",
      "983:\tlearn: 135.4812033\ttotal: 6.24s\tremaining: 102ms\n",
      "984:\tlearn: 135.4582232\ttotal: 6.25s\tremaining: 95.2ms\n",
      "985:\tlearn: 135.4496052\ttotal: 6.25s\tremaining: 88.8ms\n",
      "986:\tlearn: 135.4409144\ttotal: 6.26s\tremaining: 82.5ms\n",
      "987:\tlearn: 135.4318329\ttotal: 6.26s\tremaining: 76.1ms\n",
      "988:\tlearn: 135.4195181\ttotal: 6.27s\tremaining: 69.8ms\n",
      "989:\tlearn: 135.4071961\ttotal: 6.28s\tremaining: 63.4ms\n",
      "990:\tlearn: 135.4002248\ttotal: 6.28s\tremaining: 57.1ms\n",
      "991:\tlearn: 135.3886413\ttotal: 6.29s\tremaining: 50.7ms\n",
      "992:\tlearn: 135.3726770\ttotal: 6.29s\tremaining: 44.4ms\n",
      "993:\tlearn: 135.3605836\ttotal: 6.3s\tremaining: 38ms\n",
      "994:\tlearn: 135.3398063\ttotal: 6.31s\tremaining: 31.7ms\n",
      "995:\tlearn: 135.3195454\ttotal: 6.31s\tremaining: 25.3ms\n",
      "996:\tlearn: 135.3097269\ttotal: 6.32s\tremaining: 19ms\n",
      "997:\tlearn: 135.3033024\ttotal: 6.32s\tremaining: 12.7ms\n",
      "998:\tlearn: 135.2896162\ttotal: 6.33s\tremaining: 6.33ms\n",
      "999:\tlearn: 135.2762601\ttotal: 6.33s\tremaining: 0us\n"
     ]
    },
    {
     "data": {
      "text/plain": [
       "VotingRegressor(estimators=[('lgbm',\n",
       "                             LGBMRegressor(learning_rate=0.032, max_depth=7,\n",
       "                                           n_estimators=1000,\n",
       "                                           random_state=42)),\n",
       "                            ('catboost',\n",
       "                             <catboost.core.CatBoostRegressor object at 0x0000020898E669D0>)])"
      ]
     },
     "execution_count": 80,
     "metadata": {},
     "output_type": "execute_result"
    }
   ],
   "source": [
    "#fitting the ensembled model\n",
    "model.fit(X_train, y_train)"
   ]
  },
  {
   "cell_type": "code",
   "execution_count": 81,
   "metadata": {
    "scrolled": true
   },
   "outputs": [],
   "source": [
    "#making predictions on the X_test\n",
    "y_pred = model.predict(X_test)"
   ]
  },
  {
   "cell_type": "code",
   "execution_count": 82,
   "metadata": {},
   "outputs": [],
   "source": [
    "#getting the root mean squared error\n",
    "mse = mean_squared_error(y_test, y_pred)\n",
    "rmse = np.sqrt(mse)"
   ]
  },
  {
   "cell_type": "code",
   "execution_count": 83,
   "metadata": {},
   "outputs": [],
   "source": [
    "#saving the values in the empty list that was instantiated earlier\n",
    "mse_scores.append(mse)\n",
    "rmse_scores.append(rmse)"
   ]
  },
  {
   "cell_type": "code",
   "execution_count": 84,
   "metadata": {},
   "outputs": [
    {
     "name": "stdout",
     "output_type": "stream",
     "text": [
      "25548.078883493847\n"
     ]
    }
   ],
   "source": [
    "#getting the square of the rmse score because of the sqrt transformation that was performed on the price\n",
    "mean_rmse = np.mean(rmse_scores)\n",
    "print(np.square(mean_rmse))"
   ]
  },
  {
   "cell_type": "code",
   "execution_count": 85,
   "metadata": {},
   "outputs": [],
   "source": [
    "#making predictions on the test dataset and also squaring the result\n",
    "y_pred_test = model.predict(test)\n",
    "y_pred_tests = np.square(y_pred_test)"
   ]
  },
  {
   "cell_type": "code",
   "execution_count": 86,
   "metadata": {},
   "outputs": [
    {
     "data": {
      "text/html": [
       "<div>\n",
       "<style scoped>\n",
       "    .dataframe tbody tr th:only-of-type {\n",
       "        vertical-align: middle;\n",
       "    }\n",
       "\n",
       "    .dataframe tbody tr th {\n",
       "        vertical-align: top;\n",
       "    }\n",
       "\n",
       "    .dataframe thead th {\n",
       "        text-align: right;\n",
       "    }\n",
       "</style>\n",
       "<table border=\"1\" class=\"dataframe\">\n",
       "  <thead>\n",
       "    <tr style=\"text-align: right;\">\n",
       "      <th></th>\n",
       "      <th>price</th>\n",
       "    </tr>\n",
       "  </thead>\n",
       "  <tbody>\n",
       "    <tr>\n",
       "      <th>0</th>\n",
       "      <td>2.357494e+06</td>\n",
       "    </tr>\n",
       "    <tr>\n",
       "      <th>1</th>\n",
       "      <td>1.022920e+06</td>\n",
       "    </tr>\n",
       "    <tr>\n",
       "      <th>2</th>\n",
       "      <td>1.222631e+06</td>\n",
       "    </tr>\n",
       "    <tr>\n",
       "      <th>3</th>\n",
       "      <td>8.595833e+06</td>\n",
       "    </tr>\n",
       "    <tr>\n",
       "      <th>4</th>\n",
       "      <td>1.888025e+06</td>\n",
       "    </tr>\n",
       "  </tbody>\n",
       "</table>\n",
       "</div>"
      ],
      "text/plain": [
       "          price\n",
       "0  2.357494e+06\n",
       "1  1.022920e+06\n",
       "2  1.222631e+06\n",
       "3  8.595833e+06\n",
       "4  1.888025e+06"
      ]
     },
     "execution_count": 86,
     "metadata": {},
     "output_type": "execute_result"
    }
   ],
   "source": [
    "#saving the predicted value in a dataframe\n",
    "pred = pd.DataFrame({\"price\": y_pred_tests})\n",
    "pred.head()"
   ]
  },
  {
   "cell_type": "code",
   "execution_count": 87,
   "metadata": {},
   "outputs": [
    {
     "data": {
      "text/html": [
       "<div>\n",
       "<style scoped>\n",
       "    .dataframe tbody tr th:only-of-type {\n",
       "        vertical-align: middle;\n",
       "    }\n",
       "\n",
       "    .dataframe tbody tr th {\n",
       "        vertical-align: top;\n",
       "    }\n",
       "\n",
       "    .dataframe thead th {\n",
       "        text-align: right;\n",
       "    }\n",
       "</style>\n",
       "<table border=\"1\" class=\"dataframe\">\n",
       "  <thead>\n",
       "    <tr style=\"text-align: right;\">\n",
       "      <th></th>\n",
       "      <th>ID</th>\n",
       "      <th>price</th>\n",
       "    </tr>\n",
       "  </thead>\n",
       "  <tbody>\n",
       "    <tr>\n",
       "      <th>0</th>\n",
       "      <td>845</td>\n",
       "      <td>2.357494e+06</td>\n",
       "    </tr>\n",
       "    <tr>\n",
       "      <th>1</th>\n",
       "      <td>1924</td>\n",
       "      <td>1.022920e+06</td>\n",
       "    </tr>\n",
       "    <tr>\n",
       "      <th>2</th>\n",
       "      <td>10718</td>\n",
       "      <td>1.222631e+06</td>\n",
       "    </tr>\n",
       "    <tr>\n",
       "      <th>3</th>\n",
       "      <td>12076</td>\n",
       "      <td>8.595833e+06</td>\n",
       "    </tr>\n",
       "    <tr>\n",
       "      <th>4</th>\n",
       "      <td>12254</td>\n",
       "      <td>1.888025e+06</td>\n",
       "    </tr>\n",
       "  </tbody>\n",
       "</table>\n",
       "</div>"
      ],
      "text/plain": [
       "      ID         price\n",
       "0    845  2.357494e+06\n",
       "1   1924  1.022920e+06\n",
       "2  10718  1.222631e+06\n",
       "3  12076  8.595833e+06\n",
       "4  12254  1.888025e+06"
      ]
     },
     "execution_count": 87,
     "metadata": {},
     "output_type": "execute_result"
    }
   ],
   "source": [
    "#creating a feature in the submission dataset to store the predicted values\n",
    "sub = pd.read_csv(\"Sample_submission.csv\")\n",
    "sub[\"price\"] = pred[\"price\"]\n",
    "sub.head()"
   ]
  },
  {
   "cell_type": "code",
   "execution_count": 89,
   "metadata": {},
   "outputs": [],
   "source": [
    "#converting it to a csv file for submission on zindi\n",
    "sub.to_csv(\"sub43.csv\", index = False)"
   ]
  },
  {
   "cell_type": "code",
   "execution_count": null,
   "metadata": {},
   "outputs": [],
   "source": []
  }
 ],
 "metadata": {
  "kernelspec": {
   "display_name": "Python 3 (ipykernel)",
   "language": "python",
   "name": "python3"
  },
  "language_info": {
   "codemirror_mode": {
    "name": "ipython",
    "version": 3
   },
   "file_extension": ".py",
   "mimetype": "text/x-python",
   "name": "python",
   "nbconvert_exporter": "python",
   "pygments_lexer": "ipython3",
   "version": "3.9.7"
  }
 },
 "nbformat": 4,
 "nbformat_minor": 2
}
